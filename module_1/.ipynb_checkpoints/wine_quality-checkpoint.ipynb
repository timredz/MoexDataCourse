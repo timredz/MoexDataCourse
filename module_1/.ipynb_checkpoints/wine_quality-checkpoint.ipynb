{
 "cells": [
  {
   "cell_type": "markdown",
   "metadata": {
    "collapsed": false
   },
   "source": [
    "<center><img src=\"wine.jpeg\"></center>\n"
   ]
  },
  {
   "cell_type": "markdown",
   "metadata": {
    "collapsed": false
   },
   "source": [
    "### <center> Индивидуальный проект по анализу данных </center>\n",
    "### <center> Автор: Тимур Реджепов</center>\n",
    "### <center> Оценка качества белого вина</center>\n",
    "##### <center> В проекте анализируются данные исследования образцов португальских белых вин \"Vinho Verdi\". Объект - образцы вин, признаки - их физико-химические свойства </center>"
   ]
  },
  {
   "cell_type": "markdown",
   "metadata": {
    "collapsed": false
   },
   "source": [
    "###  Часть 1. Описание набора данных и признаков\n",
    "##### Цель:\n",
    " Оценить качество вина от 0 до 10. 0 - самое низкое качество, 10 - высшее качество\n",
    " \n",
    " ##### Набор данных (признаки):\n",
    "    1.  fixed acidity - Кислотность (стабильная)\n",
    "    2.  volatile acidity - Кислотность (изменчивая)\n",
    "    3.  citric acid - Лимонная кислота\n",
    "    4.  residual sugar - Сахар\n",
    "    5.  chlorides - Хлориды\n",
    "    6.  free sulfur dioxide - Диоксид серы (свободный)\n",
    "    7.  total sulfur dioxide - Диоксид серы (суммарный)\n",
    "    8.  density - Плотность\n",
    "    9.  pH - Водоро́дный показа́тель\n",
    "    10. sulphates - Сульфаты\n",
    "    11. alcohol - Спирт\n",
    "    12. quality - Качество (целевая переменная)"
   ]
  },
  {
   "cell_type": "code",
   "execution_count": 1,
   "metadata": {
    "collapsed": false
   },
   "outputs": [
    {
     "name": "stdout",
     "output_type": "stream",
     "text": [
      "Populating the interactive namespace from numpy and matplotlib\n"
     ]
    },
    {
     "name": "stderr",
     "output_type": "stream",
     "text": [
      "/usr/local/lib/python3.4/dist-packages/sklearn/cross_validation.py:44: DeprecationWarning: This module was deprecated in version 0.18 in favor of the model_selection module into which all the refactored classes and functions are moved. Also note that the interface of the new CV iterators are different from that of this module. This module will be removed in 0.20.\n",
      "  \"This module will be removed in 0.20.\", DeprecationWarning)\n",
      "/usr/local/lib/python3.4/dist-packages/sklearn/grid_search.py:43: DeprecationWarning: This module was deprecated in version 0.18 in favor of the model_selection module into which all the refactored classes and functions are moved. This module will be removed in 0.20.\n",
      "  DeprecationWarning)\n",
      "/usr/local/lib/python3.4/dist-packages/sklearn/learning_curve.py:23: DeprecationWarning: This module was deprecated in version 0.18 in favor of the model_selection module into which all the functions are moved. This module will be removed in 0.20\n",
      "  DeprecationWarning)\n"
     ]
    }
   ],
   "source": [
    "from __future__ import division, print_function\n",
    "# отключим всякие предупреждения Anaconda\n",
    "import warnings\n",
    "warnings.filterwarnings('ignore')\n",
    "import numpy as np\n",
    "import pandas as pd\n",
    "import seaborn as sns\n",
    "import matplotlib.pyplot as plt\n",
    "\n",
    "from sklearn import preprocessing\n",
    "from sklearn.linear_model import LogisticRegression\n",
    "from sklearn.neighbors import KNeighborsClassifier\n",
    "from sklearn.ensemble import RandomForestClassifier\n",
    "from sklearn.ensemble import RandomForestRegressor\n",
    "from sklearn.ensemble import GradientBoostingRegressor\n",
    "from sklearn.svm import SVC\n",
    "from sklearn.feature_selection import VarianceThreshold\n",
    "\n",
    "from sklearn.grid_search import GridSearchCV\n",
    "from sklearn.cross_validation import StratifiedKFold\n",
    "from sklearn.cross_validation import train_test_split\n",
    "from sklearn.learning_curve import validation_curve\n",
    "from sklearn.learning_curve import learning_curve\n",
    "from sklearn.metrics import f1_score\n",
    "from sklearn.metrics import accuracy_score\n",
    "\n",
    "from sklearn.preprocessing import scale\n",
    "from sklearn.metrics import mean_squared_error\n",
    "from sklearn.metrics import explained_variance_score\n",
    "from sklearn.metrics import mean_absolute_error\n",
    "from sklearn.metrics import median_absolute_error\n",
    "from sklearn.metrics import r2_score\n",
    "from sklearn.linear_model import Lasso\n",
    "from sklearn.linear_model import ElasticNet\n",
    "from sklearn.svm import SVR\n",
    "\n",
    "%pylab inline"
   ]
  },
  {
   "cell_type": "markdown",
   "metadata": {
    "collapsed": false
   },
   "source": [
    "###  Часть 2. Первичный анализ признаков"
   ]
  },
  {
   "cell_type": "code",
   "execution_count": 2,
   "metadata": {
    "collapsed": false
   },
   "outputs": [
    {
     "data": {
      "text/html": [
       "<div>\n",
       "<table border=\"1\" class=\"dataframe\">\n",
       "  <thead>\n",
       "    <tr style=\"text-align: right;\">\n",
       "      <th></th>\n",
       "      <th>fixed acidity</th>\n",
       "      <th>volatile acidity</th>\n",
       "      <th>citric acid</th>\n",
       "      <th>residual sugar</th>\n",
       "      <th>chlorides</th>\n",
       "      <th>free sulfur dioxide</th>\n",
       "      <th>total sulfur dioxide</th>\n",
       "      <th>density</th>\n",
       "      <th>pH</th>\n",
       "      <th>sulphates</th>\n",
       "      <th>alcohol</th>\n",
       "      <th>quality</th>\n",
       "    </tr>\n",
       "  </thead>\n",
       "  <tbody>\n",
       "    <tr>\n",
       "      <th>0</th>\n",
       "      <td>7.0</td>\n",
       "      <td>0.27</td>\n",
       "      <td>0.36</td>\n",
       "      <td>20.7</td>\n",
       "      <td>0.045</td>\n",
       "      <td>45</td>\n",
       "      <td>170</td>\n",
       "      <td>1.0010</td>\n",
       "      <td>3.00</td>\n",
       "      <td>0.45</td>\n",
       "      <td>8.8</td>\n",
       "      <td>6</td>\n",
       "    </tr>\n",
       "    <tr>\n",
       "      <th>1</th>\n",
       "      <td>6.3</td>\n",
       "      <td>0.30</td>\n",
       "      <td>0.34</td>\n",
       "      <td>1.6</td>\n",
       "      <td>0.049</td>\n",
       "      <td>14</td>\n",
       "      <td>132</td>\n",
       "      <td>0.9940</td>\n",
       "      <td>3.30</td>\n",
       "      <td>0.49</td>\n",
       "      <td>9.5</td>\n",
       "      <td>6</td>\n",
       "    </tr>\n",
       "    <tr>\n",
       "      <th>2</th>\n",
       "      <td>8.1</td>\n",
       "      <td>0.28</td>\n",
       "      <td>0.40</td>\n",
       "      <td>6.9</td>\n",
       "      <td>0.050</td>\n",
       "      <td>30</td>\n",
       "      <td>97</td>\n",
       "      <td>0.9951</td>\n",
       "      <td>3.26</td>\n",
       "      <td>0.44</td>\n",
       "      <td>10.1</td>\n",
       "      <td>6</td>\n",
       "    </tr>\n",
       "    <tr>\n",
       "      <th>3</th>\n",
       "      <td>7.2</td>\n",
       "      <td>0.23</td>\n",
       "      <td>0.32</td>\n",
       "      <td>8.5</td>\n",
       "      <td>0.058</td>\n",
       "      <td>47</td>\n",
       "      <td>186</td>\n",
       "      <td>0.9956</td>\n",
       "      <td>3.19</td>\n",
       "      <td>0.40</td>\n",
       "      <td>9.9</td>\n",
       "      <td>6</td>\n",
       "    </tr>\n",
       "    <tr>\n",
       "      <th>4</th>\n",
       "      <td>7.2</td>\n",
       "      <td>0.23</td>\n",
       "      <td>0.32</td>\n",
       "      <td>8.5</td>\n",
       "      <td>0.058</td>\n",
       "      <td>47</td>\n",
       "      <td>186</td>\n",
       "      <td>0.9956</td>\n",
       "      <td>3.19</td>\n",
       "      <td>0.40</td>\n",
       "      <td>9.9</td>\n",
       "      <td>6</td>\n",
       "    </tr>\n",
       "  </tbody>\n",
       "</table>\n",
       "</div>"
      ]
     },
     "execution_count": 2,
     "metadata": {},
     "output_type": "execute_result"
    }
   ],
   "source": [
    "# Чтение данных\n",
    "data = pd.read_csv('winequality-white.csv', ';')\n",
    "data.head(5)"
   ]
  },
  {
   "cell_type": "code",
   "execution_count": 3,
   "metadata": {
    "collapsed": false
   },
   "outputs": [
    {
     "name": "stdout",
     "output_type": "stream",
     "text": [
      "<class 'pandas.core.frame.DataFrame'>\n",
      "Int64Index: 4898 entries, 0 to 4897\n",
      "Data columns (total 12 columns):\n",
      "fixed acidity           4898 non-null float64\n",
      "volatile acidity        4898 non-null float64\n",
      "citric acid             4898 non-null float64\n",
      "residual sugar          4898 non-null float64\n",
      "chlorides               4898 non-null float64\n",
      "free sulfur dioxide     4898 non-null float64\n",
      "total sulfur dioxide    4898 non-null float64\n",
      "density                 4898 non-null float64\n",
      "pH                      4898 non-null float64\n",
      "sulphates               4898 non-null float64\n",
      "alcohol                 4898 non-null float64\n",
      "quality                 4898 non-null int64\n",
      "dtypes: float64(11), int64(1)\n",
      "memory usage: 497.5 KB\n"
     ]
    }
   ],
   "source": [
    "#Посмотрим на типы данных\n",
    "data.info()\n",
    "\n",
    "# Все данные заполнены, пропусков нет."
   ]
  },
  {
   "cell_type": "code",
   "execution_count": 4,
   "metadata": {
    "collapsed": false
   },
   "outputs": [
    {
     "data": {
      "text/html": [
       "<div>\n",
       "<table border=\"1\" class=\"dataframe\">\n",
       "  <thead>\n",
       "    <tr style=\"text-align: right;\">\n",
       "      <th></th>\n",
       "      <th>count</th>\n",
       "      <th>mean</th>\n",
       "      <th>std</th>\n",
       "      <th>min</th>\n",
       "      <th>25%</th>\n",
       "      <th>50%</th>\n",
       "      <th>75%</th>\n",
       "      <th>max</th>\n",
       "    </tr>\n",
       "  </thead>\n",
       "  <tbody>\n",
       "    <tr>\n",
       "      <th>fixed acidity</th>\n",
       "      <td>4898</td>\n",
       "      <td>6.854788</td>\n",
       "      <td>0.843868</td>\n",
       "      <td>3.80000</td>\n",
       "      <td>6.300000</td>\n",
       "      <td>6.80000</td>\n",
       "      <td>7.3000</td>\n",
       "      <td>14.20000</td>\n",
       "    </tr>\n",
       "    <tr>\n",
       "      <th>volatile acidity</th>\n",
       "      <td>4898</td>\n",
       "      <td>0.278241</td>\n",
       "      <td>0.100795</td>\n",
       "      <td>0.08000</td>\n",
       "      <td>0.210000</td>\n",
       "      <td>0.26000</td>\n",
       "      <td>0.3200</td>\n",
       "      <td>1.10000</td>\n",
       "    </tr>\n",
       "    <tr>\n",
       "      <th>citric acid</th>\n",
       "      <td>4898</td>\n",
       "      <td>0.334192</td>\n",
       "      <td>0.121020</td>\n",
       "      <td>0.00000</td>\n",
       "      <td>0.270000</td>\n",
       "      <td>0.32000</td>\n",
       "      <td>0.3900</td>\n",
       "      <td>1.66000</td>\n",
       "    </tr>\n",
       "    <tr>\n",
       "      <th>residual sugar</th>\n",
       "      <td>4898</td>\n",
       "      <td>6.391415</td>\n",
       "      <td>5.072058</td>\n",
       "      <td>0.60000</td>\n",
       "      <td>1.700000</td>\n",
       "      <td>5.20000</td>\n",
       "      <td>9.9000</td>\n",
       "      <td>65.80000</td>\n",
       "    </tr>\n",
       "    <tr>\n",
       "      <th>chlorides</th>\n",
       "      <td>4898</td>\n",
       "      <td>0.045772</td>\n",
       "      <td>0.021848</td>\n",
       "      <td>0.00900</td>\n",
       "      <td>0.036000</td>\n",
       "      <td>0.04300</td>\n",
       "      <td>0.0500</td>\n",
       "      <td>0.34600</td>\n",
       "    </tr>\n",
       "    <tr>\n",
       "      <th>free sulfur dioxide</th>\n",
       "      <td>4898</td>\n",
       "      <td>35.308085</td>\n",
       "      <td>17.007137</td>\n",
       "      <td>2.00000</td>\n",
       "      <td>23.000000</td>\n",
       "      <td>34.00000</td>\n",
       "      <td>46.0000</td>\n",
       "      <td>289.00000</td>\n",
       "    </tr>\n",
       "    <tr>\n",
       "      <th>total sulfur dioxide</th>\n",
       "      <td>4898</td>\n",
       "      <td>138.360657</td>\n",
       "      <td>42.498065</td>\n",
       "      <td>9.00000</td>\n",
       "      <td>108.000000</td>\n",
       "      <td>134.00000</td>\n",
       "      <td>167.0000</td>\n",
       "      <td>440.00000</td>\n",
       "    </tr>\n",
       "    <tr>\n",
       "      <th>density</th>\n",
       "      <td>4898</td>\n",
       "      <td>0.994027</td>\n",
       "      <td>0.002991</td>\n",
       "      <td>0.98711</td>\n",
       "      <td>0.991723</td>\n",
       "      <td>0.99374</td>\n",
       "      <td>0.9961</td>\n",
       "      <td>1.03898</td>\n",
       "    </tr>\n",
       "    <tr>\n",
       "      <th>pH</th>\n",
       "      <td>4898</td>\n",
       "      <td>3.188267</td>\n",
       "      <td>0.151001</td>\n",
       "      <td>2.72000</td>\n",
       "      <td>3.090000</td>\n",
       "      <td>3.18000</td>\n",
       "      <td>3.2800</td>\n",
       "      <td>3.82000</td>\n",
       "    </tr>\n",
       "    <tr>\n",
       "      <th>sulphates</th>\n",
       "      <td>4898</td>\n",
       "      <td>0.489847</td>\n",
       "      <td>0.114126</td>\n",
       "      <td>0.22000</td>\n",
       "      <td>0.410000</td>\n",
       "      <td>0.47000</td>\n",
       "      <td>0.5500</td>\n",
       "      <td>1.08000</td>\n",
       "    </tr>\n",
       "    <tr>\n",
       "      <th>alcohol</th>\n",
       "      <td>4898</td>\n",
       "      <td>10.514267</td>\n",
       "      <td>1.230621</td>\n",
       "      <td>8.00000</td>\n",
       "      <td>9.500000</td>\n",
       "      <td>10.40000</td>\n",
       "      <td>11.4000</td>\n",
       "      <td>14.20000</td>\n",
       "    </tr>\n",
       "    <tr>\n",
       "      <th>quality</th>\n",
       "      <td>4898</td>\n",
       "      <td>5.877909</td>\n",
       "      <td>0.885639</td>\n",
       "      <td>3.00000</td>\n",
       "      <td>5.000000</td>\n",
       "      <td>6.00000</td>\n",
       "      <td>6.0000</td>\n",
       "      <td>9.00000</td>\n",
       "    </tr>\n",
       "  </tbody>\n",
       "</table>\n",
       "</div>"
      ]
     },
     "execution_count": 4,
     "metadata": {},
     "output_type": "execute_result"
    }
   ],
   "source": [
    "# Cтатистические характеристики:\n",
    "data.describe().T"
   ]
  },
  {
   "cell_type": "code",
   "execution_count": 5,
   "metadata": {
    "collapsed": false
   },
   "outputs": [
    {
     "name": "stdout",
     "output_type": "stream",
     "text": [
      "6    2198\n",
      "5    1457\n",
      "7     880\n",
      "8     175\n",
      "4     163\n",
      "3      20\n",
      "9       5\n",
      "Name: quality, dtype: int64\n"
     ]
    },
    {
     "data": {
      "image/png": "[encoded data removed]"
     },
     "metadata": {},
     "output_type": "display_data"
    }
   ],
   "source": [
    "# Посмотрим на распределение целевой переменной\n",
    "sns.countplot(x = 'quality', data = data)\n",
    "print(data['quality'].value_counts())"
   ]
  },
  {
   "cell_type": "markdown",
   "metadata": {
    "collapsed": false
   },
   "source": [
    "<p>Выборка не сбалансирована. Хоть оценка от 0 и до 10, но в данных присутствуют только вина с качеством от 3 до 9. В выборке преобладают вина \"среднего\" качества (5-7), более 80%. Потому задача, больше сводится к классификации вин с качеством 5, 6 и 7</p>\n",
    "<p>Чтобы интуитивно понимать различия в качестве вин, условно разделим нашу выборку на три класса качества: {низкое (3-4), среднее (5-7) и высокое (8-9)}. И давайте посмотрим, чем же они отличаются?! Это поможет нам выбирать хорошие вина в магазинах:)</p>\n",
    "\n",
    "Добавим новые категориальные признаки: низкое качество - 2, среднее - 1, высокое - 3:"
   ]
  },
  {
   "cell_type": "code",
   "execution_count": 24,
   "metadata": {
    "collapsed": false
   },
   "outputs": [],
   "source": [
    "def qgr(x):\n",
    "    if x < 5:\n",
    "        return 2\n",
    "    elif x < 8:\n",
    "        return 1\n",
    "    else:\n",
    "        return 3\n",
    "\n",
    "df = data.copy()\n",
    "df['new_q'] = df['quality'].apply(qgr)"
   ]
  },
  {
   "cell_type": "markdown",
   "metadata": {
    "collapsed": false
   },
   "source": [
    "###  Часть 3. Первичный визуальный анализ признаков"
   ]
  },
  {
   "cell_type": "code",
   "execution_count": 29,
   "metadata": {
    "collapsed": false
   },
   "outputs": [
    {
     "data": {
      "text/plain": [
       "<matplotlib.axes._subplots.AxesSubplot at 0x34f7a390>"
      ]
     },
     "execution_count": 29,
     "metadata": {},
     "output_type": "execute_result"
    },
    {
     "data": {
      "image/png": "[encoded data removed]"
     },
     "metadata": {},
     "output_type": "display_data"
    }
   ],
   "source": [
    "# Признаки высшего качества\n",
    "ax1 = plt.subplot2grid((2,2), (0,0))\n",
    "ax2 = plt.subplot2grid((2,2), (0,1))\n",
    "ax3 = plt.subplot2grid((2,2), (1,0))\n",
    "ax4 = plt.subplot2grid((2,2), (1,1))\n",
    "plt.tight_layout(pad=1.0, w_pad=2.5, h_pad=2.0)\n",
    "\n",
    "sns.boxplot(x=\"new_q\", y=\"alcohol\", data=df, ax = ax1)\n",
    "sns.boxplot(x=\"new_q\", y=\"density\", data=df[df['density'] < 1.01], ax = ax2)\n",
    "sns.boxplot(x=\"new_q\", y=\"pH\", data=df[df['pH'] < 3.6], ax = ax3)\n",
    "sns.boxplot(x=\"new_q\", y=\"chlorides\", data=df[df['chlorides'] < 0.08], ax = ax4)"
   ]
  },
  {
   "cell_type": "markdown",
   "metadata": {
    "collapsed": false
   },
   "source": [
    "Как видим из графиков распределения (выше), отличительная черта высшего качества это остальных это повышенная концентрация алкоголя, низкая плотность, повышенная pH и низкая концентрация хлоридов."
   ]
  },
  {
   "cell_type": "code",
   "execution_count": 30,
   "metadata": {
    "collapsed": false
   },
   "outputs": [
    {
     "data": {
      "text/plain": [
       "<matplotlib.axes._subplots.AxesSubplot at 0x361e21d0>"
      ]
     },
     "execution_count": 30,
     "metadata": {},
     "output_type": "execute_result"
    },
    {
     "data": {
      "image/png": "[encoded data removed]"
     },
     "metadata": {},
     "output_type": "display_data"
    }
   ],
   "source": [
    "# Признаки низкого качества\n",
    "ax1 = plt.subplot2grid((2,2), (0,0))\n",
    "ax2 = plt.subplot2grid((2,2), (0,1))\n",
    "ax3 = plt.subplot2grid((2,2), (1,0))\n",
    "ax4 = plt.subplot2grid((2,2), (1,1))\n",
    "plt.tight_layout(pad=1.0, w_pad=2.5, h_pad=2.0)\n",
    "\n",
    "sns.boxplot(x=\"new_q\", y=\"chlorides\", data=df[df['chlorides'] < 0.08], ax = ax3)\n",
    "sns.boxplot(x=\"new_q\", y=\"free sulfur dioxide\", data=df[df['free sulfur dioxide'] < 80], ax = ax1)\n",
    "sns.boxplot(x=\"new_q\", y=\"volatile acidity\", data=df[df['volatile acidity']<0.6], ax = ax2)\n",
    "sns.boxplot(x=\"new_q\", y=\"residual sugar\", data=df[df['residual sugar'] < 20], ax = ax4)"
   ]
  },
  {
   "cell_type": "markdown",
   "metadata": {
    "collapsed": false
   },
   "source": [
    "На последок, посмотрим чем отличаются вина с качеством 5, 6, 7, которых больше всего в выборке:"
   ]
  },
  {
   "cell_type": "code",
   "execution_count": 31,
   "metadata": {
    "collapsed": false
   },
   "outputs": [
    {
     "data": {
      "text/plain": [
       "<matplotlib.axes._subplots.AxesSubplot at 0x36475860>"
      ]
     },
     "execution_count": 31,
     "metadata": {},
     "output_type": "execute_result"
    },
    {
     "data": {
      "image/png": "[encoded data removed]"
     },
     "metadata": {},
     "output_type": "display_data"
    }
   ],
   "source": [
    "ax1 = plt.subplot2grid((2,2), (0,0))\n",
    "ax2 = plt.subplot2grid((2,2), (0,1))\n",
    "ax3 = plt.subplot2grid((2,2), (1,0))\n",
    "ax4 = plt.subplot2grid((2,2), (1,1))\n",
    "\n",
    "plt.tight_layout(pad=1.0, w_pad=2.5, h_pad=2.0)\n",
    "sns.boxplot(x=\"quality\", y=\"alcohol\", data=df, ax = ax1)\n",
    "sns.boxplot(x=\"quality\", y=\"residual sugar\", data=df[df['residual sugar'] < 20], ax = ax2)\n",
    "sns.boxplot(x=\"quality\", y=\"chlorides\", data=df[df['chlorides'] < 0.08], ax = ax3)\n",
    "sns.boxplot(x=\"quality\", y=\"total sulfur dioxide\", data=df[df['total sulfur dioxide'] < 300], ax = ax4)"
   ]
  },
  {
   "cell_type": "markdown",
   "metadata": {
    "collapsed": false
   },
   "source": [
    "Посмотрим на парные зависимости признаков:"
   ]
  },
  {
   "cell_type": "code",
   "execution_count": 26,
   "metadata": {
    "collapsed": false
   },
   "outputs": [
    {
     "data": {
      "text/plain": [
       "<seaborn.axisgrid.PairGrid at 0x294ef278>"
      ]
     },
     "execution_count": 26,
     "metadata": {},
     "output_type": "execute_result"
    },
    {
     "data": {
      "image/png": "[encoded data removed]"
     },
     "metadata": {},
     "output_type": "display_data"
    }
   ],
   "source": [
    "sns.pairplot(df, vars = ['alcohol', 'volatile acidity', 'density', 'chlorides', 'free sulfur dioxide', 'citric acid', 'residual sugar', 'sulphates', 'total sulfur dioxide', 'pH', 'fixed acidity'], hue = 'new_q')"
   ]
  },
  {
   "cell_type": "markdown",
   "metadata": {
    "collapsed": false
   },
   "source": [
    "###  Закономерности, \"инсайты\", особенности данных"
   ]
  },
  {
   "cell_type": "markdown",
   "metadata": {
    "collapsed": false
   },
   "source": [
    "Подведем предварительные итоги визуального анализа:\n",
    "- Высшее качество вина это: повышенная концентрация алкоголя, низкая плотность, повышенная pH и низкая концентрация хлоридов.\n",
    "- Низшее качество вина: низкий уровень свободного диоксида серы и остаточного сахара, повышенный уровень кислотности (изменчивая) и хлоридов.\n",
    "- Самые часто встречающиеся образцы 5,6,7 отличаются уровнем алкоголя (соответственно плотностью), хлоридом, остаточным сахаром и суммарным диоксидом серы."
   ]
  },
  {
   "cell_type": "markdown",
   "metadata": {
    "collapsed": false
   },
   "source": [
    "### Предобработка данных"
   ]
  },
  {
   "cell_type": "markdown",
   "metadata": {
    "collapsed": false
   },
   "source": [
    "Так как нет пропусков в данных и все признаки имеют абсолютные (численные) значения, то предобработка не требуется"
   ]
  },
  {
   "cell_type": "markdown",
   "metadata": {
    "collapsed": false
   },
   "source": [
    "### Отбор признаков"
   ]
  },
  {
   "cell_type": "code",
   "execution_count": 15,
   "metadata": {
    "collapsed": false
   },
   "outputs": [],
   "source": [
    "y = data['quality']\n",
    "X = data.drop('quality', axis=1)\n",
    "# Маштабируем переменные и конвертируем назад в Pandas DataFrame\n",
    "scaled_data = preprocessing.scale(X)\n",
    "scaled_data = pd.DataFrame(scaled_data)\n",
    "scaled_data.columns = X.columns\n",
    "X = scaled_data"
   ]
  },
  {
   "cell_type": "markdown",
   "metadata": {
    "collapsed": false
   },
   "source": [
    "Для оценки важности признаков сделаем предсказание случайного леса с параметрами по умолчанию. Вместо кросс-валидации будем использовать Out-of-Bag оценку:"
   ]
  },
  {
   "cell_type": "code",
   "execution_count": 32,
   "metadata": {
    "collapsed": false
   },
   "outputs": [
    {
     "data": {
      "text/plain": [
       "0.55287872601061661"
      ]
     },
     "execution_count": 32,
     "metadata": {},
     "output_type": "execute_result"
    }
   ],
   "source": [
    "first_forest = RandomForestClassifier(n_estimators=300, max_depth = 5, \n",
    "                                      oob_score=True, n_jobs=-1,\n",
    "                                      random_state=42).fit(X, y)\n",
    "first_forest.oob_score_"
   ]
  },
  {
   "cell_type": "code",
   "execution_count": 33,
   "metadata": {
    "collapsed": false
   },
   "outputs": [
    {
     "data": {
      "text/html": [
       "<div>\n",
       "<table border=\"1\" class=\"dataframe\">\n",
       "  <thead>\n",
       "    <tr style=\"text-align: right;\">\n",
       "      <th></th>\n",
       "      <th>Importance</th>\n",
       "    </tr>\n",
       "  </thead>\n",
       "  <tbody>\n",
       "    <tr>\n",
       "      <th>alcohol</th>\n",
       "      <td>0.299641</td>\n",
       "    </tr>\n",
       "    <tr>\n",
       "      <th>volatile acidity</th>\n",
       "      <td>0.152186</td>\n",
       "    </tr>\n",
       "    <tr>\n",
       "      <th>density</th>\n",
       "      <td>0.149787</td>\n",
       "    </tr>\n",
       "    <tr>\n",
       "      <th>chlorides</th>\n",
       "      <td>0.084960</td>\n",
       "    </tr>\n",
       "    <tr>\n",
       "      <th>free sulfur dioxide</th>\n",
       "      <td>0.067594</td>\n",
       "    </tr>\n",
       "    <tr>\n",
       "      <th>residual sugar</th>\n",
       "      <td>0.055113</td>\n",
       "    </tr>\n",
       "    <tr>\n",
       "      <th>total sulfur dioxide</th>\n",
       "      <td>0.050929</td>\n",
       "    </tr>\n",
       "    <tr>\n",
       "      <th>citric acid</th>\n",
       "      <td>0.048710</td>\n",
       "    </tr>\n",
       "    <tr>\n",
       "      <th>pH</th>\n",
       "      <td>0.040631</td>\n",
       "    </tr>\n",
       "    <tr>\n",
       "      <th>sulphates</th>\n",
       "      <td>0.025695</td>\n",
       "    </tr>\n",
       "    <tr>\n",
       "      <th>fixed acidity</th>\n",
       "      <td>0.024753</td>\n",
       "    </tr>\n",
       "  </tbody>\n",
       "</table>\n",
       "</div>"
      ]
     },
     "execution_count": 33,
     "metadata": {},
     "output_type": "execute_result"
    }
   ],
   "source": [
    "first_forest_predictions = first_forest.predict(X)\n",
    "features = pd.DataFrame(first_forest.feature_importances_, index=X.columns,\n",
    "                        columns=['Importance']).sort(['Importance'], ascending=False)\n",
    "features"
   ]
  },
  {
   "cell_type": "code",
   "execution_count": 34,
   "metadata": {
    "collapsed": false
   },
   "outputs": [
    {
     "data": {
      "text/plain": [
       "[<matplotlib.lines.Line2D at 0x367ffe10>]"
      ]
     },
     "execution_count": 34,
     "metadata": {},
     "output_type": "execute_result"
    },
    {
     "data": {
      "image/png": "[encoded data removed]"
     },
     "metadata": {},
     "output_type": "display_data"
    }
   ],
   "source": [
    "# Кривая оценок важности признаков\n",
    "plt.plot(range(len(features.Importance.tolist())), \n",
    "         features.Importance.tolist())"
   ]
  },
  {
   "cell_type": "markdown",
   "metadata": {
    "collapsed": false
   },
   "source": [
    "Видим, что на оценку качества вин наибольшее оказывают влияние: уровень алкоголя, кислотность (изм.), плотность и хлориды.\n",
    "\n",
    "Посмотрим также на корреляцию признаков:"
   ]
  },
  {
   "cell_type": "code",
   "execution_count": 12,
   "metadata": {
    "collapsed": false
   },
   "outputs": [
    {
     "name": "stdout",
     "output_type": "stream",
     "text": [
      "quality                 1.000000\n",
      "fixed acidity          -0.113663\n",
      "volatile acidity       -0.194723\n",
      "citric acid            -0.009209\n",
      "residual sugar         -0.097577\n",
      "sulphates               0.053678\n",
      "free sulfur dioxide     0.008158\n",
      "chlorides              -0.209934\n",
      "total sulfur dioxide   -0.174737\n",
      "pH                      0.099427\n",
      "density                -0.307123\n",
      "alcohol                 0.435575\n",
      "Name: quality, dtype: float64\n"
     ]
    },
    {
     "data": {
      "text/plain": [
       "<matplotlib.axes._subplots.AxesSubplot at 0xc390e80>"
      ]
     },
     "execution_count": 12,
     "metadata": {},
     "output_type": "execute_result"
    },
    {
     "data": {
      "image/png": "[encoded data removed]"
     },
     "metadata": {},
     "output_type": "display_data"
    }
   ],
   "source": [
    "predictors = ['quality', 'fixed acidity', 'volatile acidity', 'citric acid', 'residual sugar', 'sulphates', \n",
    "              'free sulfur dioxide', 'chlorides', 'total sulfur dioxide', 'pH', 'density', 'alcohol']\n",
    "corr = data[predictors].corr()\n",
    "print(corr['quality'])\n",
    "sns.heatmap(corr)"
   ]
  },
  {
   "cell_type": "markdown",
   "metadata": {
    "collapsed": false
   },
   "source": [
    "###  Построение модели"
   ]
  },
  {
   "cell_type": "code",
   "execution_count": 5,
   "metadata": {
    "collapsed": false
   },
   "outputs": [],
   "source": [
    "X_train, X_test, y_train, y_test = train_test_split(X, y, test_size=0.3, random_state=42)"
   ]
  },
  {
   "cell_type": "code",
   "execution_count": 5,
   "metadata": {
    "collapsed": false
   },
   "outputs": [],
   "source": [
    "classifiers = [Lasso(),\n",
    "               ElasticNet(),\n",
    "               SVR(), \n",
    "               RandomForestRegressor(),\n",
    "               GradientBoostingRegressor()] \n",
    "               \n",
    "classifiers_name = ['Lasso',\n",
    "                    'ElasticNet',\n",
    "                    'SVR', \n",
    "                    'RandomForestRegressor',\n",
    "                    'GradienBoostingRegressor']"
   ]
  },
  {
   "cell_type": "code",
   "execution_count": 6,
   "metadata": {
    "collapsed": true
   },
   "outputs": [],
   "source": [
    "# Настройка параметров выбранных алгоритмов с помощью GridSearchCV \n",
    "n_folds = 5\n",
    "scores = []\n",
    "fits = []\n",
    "\n",
    "lasso_params = {'alpha': (0.0001, 0.001, 1.0)}\n",
    "\n",
    "elasticnet_params = {'alpha': (0.0001, 0.001, 0.1),\n",
    "                    'l1_ratio': (0.1, 0.5)}\n",
    "\n",
    "forest_params = {'n_estimators': [100, 300, 500],\n",
    "                 'max_depth': list(range(7, 10)), \n",
    "                 'min_samples_leaf': list(range(10, 21, 10))}\n",
    "\n",
    "svr_params = {'kernel' : ['rbf'], \n",
    "              'C': (.5, 1, 2)}\n",
    "\n",
    "gbr_params = {'n_estimators': [100, 300, 500],\n",
    "              'learning_rate':(0.1, 0.5, 1),\n",
    "              'max_depth': list(range(3, 6)), \n",
    "              'min_samples_leaf': list(range(10, 31, 10))}\n",
    "\n",
    "params = [lasso_params, elasticnet_params, svr_params, forest_params, gbr_params]"
   ]
  },
  {
   "cell_type": "code",
   "execution_count": 7,
   "metadata": {
    "collapsed": false
   },
   "outputs": [
    {
     "ename": "ValueError",
     "evalue": "'roc auc' is not a valid scoring value. Valid options are ['accuracy', 'adjusted_rand_score', 'average_precision', 'f1', 'f1_macro', 'f1_micro', 'f1_samples', 'f1_weighted', 'log_loss', 'mean_absolute_error', 'mean_squared_error', 'median_absolute_error', 'precision', 'precision_macro', 'precision_micro', 'precision_samples', 'precision_weighted', 'r2', 'recall', 'recall_macro', 'recall_micro', 'recall_samples', 'recall_weighted', 'roc_auc']",
     "output_type": "error",
     "traceback": [
      "\u001b[1;31m---------------------------------------------------------------------------\u001b[0m",
      "\u001b[1;31mKeyError\u001b[0m                                  Traceback (most recent call last)",
      "\u001b[1;32mC:\\Users\\redjepovty\\Anaconda3\\lib\\site-packages\\sklearn\\metrics\\scorer.py\u001b[0m in \u001b[0;36mget_scorer\u001b[1;34m(scoring)\u001b[0m\n\u001b[0;32m    192\u001b[0m         \u001b[1;32mtry\u001b[0m\u001b[1;33m:\u001b[0m\u001b[1;33m\u001b[0m\u001b[0m\n\u001b[1;32m--> 193\u001b[1;33m             \u001b[0mscorer\u001b[0m \u001b[1;33m=\u001b[0m \u001b[0mSCORERS\u001b[0m\u001b[1;33m[\u001b[0m\u001b[0mscoring\u001b[0m\u001b[1;33m]\u001b[0m\u001b[1;33m\u001b[0m\u001b[0m\n\u001b[0m\u001b[0;32m    194\u001b[0m         \u001b[1;32mexcept\u001b[0m \u001b[0mKeyError\u001b[0m\u001b[1;33m:\u001b[0m\u001b[1;33m\u001b[0m\u001b[0m\n",
      "\u001b[1;31mKeyError\u001b[0m: 'roc auc'",
      "\nDuring handling of the above exception, another exception occurred:\n",
      "\u001b[1;31mValueError\u001b[0m                                Traceback (most recent call last)",
      "\u001b[1;32m<ipython-input-7-95e257400101>\u001b[0m in \u001b[0;36m<module>\u001b[1;34m()\u001b[0m\n\u001b[0;32m      6\u001b[0m                         shuffle=False, random_state=42), \n\u001b[0;32m      7\u001b[0m                         n_jobs=-1, scoring=\"roc auc\")\n\u001b[1;32m----> 8\u001b[1;33m     \u001b[0mgrid\u001b[0m\u001b[1;33m.\u001b[0m\u001b[0mfit\u001b[0m\u001b[1;33m(\u001b[0m\u001b[0mX_train\u001b[0m\u001b[1;33m,\u001b[0m \u001b[0my_train\u001b[0m\u001b[1;33m)\u001b[0m\u001b[1;33m\u001b[0m\u001b[0m\n\u001b[0m\u001b[0;32m      9\u001b[0m     \u001b[0mfits\u001b[0m\u001b[1;33m.\u001b[0m\u001b[0mappend\u001b[0m\u001b[1;33m(\u001b[0m\u001b[0mgrid\u001b[0m\u001b[1;33m.\u001b[0m\u001b[0mbest_params_\u001b[0m\u001b[1;33m)\u001b[0m\u001b[1;33m\u001b[0m\u001b[0m\n\u001b[0;32m     10\u001b[0m     \u001b[0mclf_best_score\u001b[0m \u001b[1;33m=\u001b[0m \u001b[0mgrid\u001b[0m\u001b[1;33m.\u001b[0m\u001b[0mbest_score_\u001b[0m\u001b[1;33m\u001b[0m\u001b[0m\n",
      "\u001b[1;32mC:\\Users\\redjepovty\\Anaconda3\\lib\\site-packages\\sklearn\\grid_search.py\u001b[0m in \u001b[0;36mfit\u001b[1;34m(self, X, y)\u001b[0m\n\u001b[0;32m    802\u001b[0m \u001b[1;33m\u001b[0m\u001b[0m\n\u001b[0;32m    803\u001b[0m         \"\"\"\n\u001b[1;32m--> 804\u001b[1;33m         \u001b[1;32mreturn\u001b[0m \u001b[0mself\u001b[0m\u001b[1;33m.\u001b[0m\u001b[0m_fit\u001b[0m\u001b[1;33m(\u001b[0m\u001b[0mX\u001b[0m\u001b[1;33m,\u001b[0m \u001b[0my\u001b[0m\u001b[1;33m,\u001b[0m \u001b[0mParameterGrid\u001b[0m\u001b[1;33m(\u001b[0m\u001b[0mself\u001b[0m\u001b[1;33m.\u001b[0m\u001b[0mparam_grid\u001b[0m\u001b[1;33m)\u001b[0m\u001b[1;33m)\u001b[0m\u001b[1;33m\u001b[0m\u001b[0m\n\u001b[0m\u001b[0;32m    805\u001b[0m \u001b[1;33m\u001b[0m\u001b[0m\n\u001b[0;32m    806\u001b[0m \u001b[1;33m\u001b[0m\u001b[0m\n",
      "\u001b[1;32mC:\\Users\\redjepovty\\Anaconda3\\lib\\site-packages\\sklearn\\grid_search.py\u001b[0m in \u001b[0;36m_fit\u001b[1;34m(self, X, y, parameter_iterable)\u001b[0m\n\u001b[0;32m    520\u001b[0m         \u001b[0mestimator\u001b[0m \u001b[1;33m=\u001b[0m \u001b[0mself\u001b[0m\u001b[1;33m.\u001b[0m\u001b[0mestimator\u001b[0m\u001b[1;33m\u001b[0m\u001b[0m\n\u001b[0;32m    521\u001b[0m         \u001b[0mcv\u001b[0m \u001b[1;33m=\u001b[0m \u001b[0mself\u001b[0m\u001b[1;33m.\u001b[0m\u001b[0mcv\u001b[0m\u001b[1;33m\u001b[0m\u001b[0m\n\u001b[1;32m--> 522\u001b[1;33m         \u001b[0mself\u001b[0m\u001b[1;33m.\u001b[0m\u001b[0mscorer_\u001b[0m \u001b[1;33m=\u001b[0m \u001b[0mcheck_scoring\u001b[0m\u001b[1;33m(\u001b[0m\u001b[0mself\u001b[0m\u001b[1;33m.\u001b[0m\u001b[0mestimator\u001b[0m\u001b[1;33m,\u001b[0m \u001b[0mscoring\u001b[0m\u001b[1;33m=\u001b[0m\u001b[0mself\u001b[0m\u001b[1;33m.\u001b[0m\u001b[0mscoring\u001b[0m\u001b[1;33m)\u001b[0m\u001b[1;33m\u001b[0m\u001b[0m\n\u001b[0m\u001b[0;32m    523\u001b[0m \u001b[1;33m\u001b[0m\u001b[0m\n\u001b[0;32m    524\u001b[0m         \u001b[0mn_samples\u001b[0m \u001b[1;33m=\u001b[0m \u001b[0m_num_samples\u001b[0m\u001b[1;33m(\u001b[0m\u001b[0mX\u001b[0m\u001b[1;33m)\u001b[0m\u001b[1;33m\u001b[0m\u001b[0m\n",
      "\u001b[1;32mC:\\Users\\redjepovty\\Anaconda3\\lib\\site-packages\\sklearn\\metrics\\scorer.py\u001b[0m in \u001b[0;36mcheck_scoring\u001b[1;34m(estimator, scoring, allow_none)\u001b[0m\n\u001b[0;32m    236\u001b[0m                         \"'fit' method, %r was passed\" % estimator)\n\u001b[0;32m    237\u001b[0m     \u001b[1;32melif\u001b[0m \u001b[0mhas_scoring\u001b[0m\u001b[1;33m:\u001b[0m\u001b[1;33m\u001b[0m\u001b[0m\n\u001b[1;32m--> 238\u001b[1;33m         \u001b[1;32mreturn\u001b[0m \u001b[0mget_scorer\u001b[0m\u001b[1;33m(\u001b[0m\u001b[0mscoring\u001b[0m\u001b[1;33m)\u001b[0m\u001b[1;33m\u001b[0m\u001b[0m\n\u001b[0m\u001b[0;32m    239\u001b[0m     \u001b[1;32melif\u001b[0m \u001b[0mhasattr\u001b[0m\u001b[1;33m(\u001b[0m\u001b[0mestimator\u001b[0m\u001b[1;33m,\u001b[0m \u001b[1;34m'score'\u001b[0m\u001b[1;33m)\u001b[0m\u001b[1;33m:\u001b[0m\u001b[1;33m\u001b[0m\u001b[0m\n\u001b[0;32m    240\u001b[0m         \u001b[1;32mreturn\u001b[0m \u001b[0m_passthrough_scorer\u001b[0m\u001b[1;33m\u001b[0m\u001b[0m\n",
      "\u001b[1;32mC:\\Users\\redjepovty\\Anaconda3\\lib\\site-packages\\sklearn\\metrics\\scorer.py\u001b[0m in \u001b[0;36mget_scorer\u001b[1;34m(scoring)\u001b[0m\n\u001b[0;32m    195\u001b[0m             raise ValueError('%r is not a valid scoring value. '\n\u001b[0;32m    196\u001b[0m                              \u001b[1;34m'Valid options are %s'\u001b[0m\u001b[1;33m\u001b[0m\u001b[0m\n\u001b[1;32m--> 197\u001b[1;33m                              % (scoring, sorted(SCORERS.keys())))\n\u001b[0m\u001b[0;32m    198\u001b[0m     \u001b[1;32melse\u001b[0m\u001b[1;33m:\u001b[0m\u001b[1;33m\u001b[0m\u001b[0m\n\u001b[0;32m    199\u001b[0m         \u001b[0mscorer\u001b[0m \u001b[1;33m=\u001b[0m \u001b[0mscoring\u001b[0m\u001b[1;33m\u001b[0m\u001b[0m\n",
      "\u001b[1;31mValueError\u001b[0m: 'roc auc' is not a valid scoring value. Valid options are ['accuracy', 'adjusted_rand_score', 'average_precision', 'f1', 'f1_macro', 'f1_micro', 'f1_samples', 'f1_weighted', 'log_loss', 'mean_absolute_error', 'mean_squared_error', 'median_absolute_error', 'precision', 'precision_macro', 'precision_micro', 'precision_samples', 'precision_weighted', 'r2', 'recall', 'recall_macro', 'recall_micro', 'recall_samples', 'recall_weighted', 'roc_auc']"
     ]
    }
   ],
   "source": [
    "for i, each_classifier in enumerate(classifiers):\n",
    "    clf = each_classifier\n",
    "    clf_params = params[i]\n",
    "    grid = GridSearchCV(clf, clf_params, \n",
    "                        cv=StratifiedKFold(y_train, n_folds=n_folds,\n",
    "                        shuffle=False, random_state=42), \n",
    "                        n_jobs=-1, scoring=\"mean_squared_error\")\n",
    "    grid.fit(X_train, y_train)\n",
    "    fits.append(grid.best_params_)\n",
    "    clf_best_score = grid.best_score_\n",
    "    scores.append(clf_best_score)\n",
    "    print(classifiers_name[i], clf_best_score, \"\\n\", grid.best_params_, \"\\n\")"
   ]
  },
  {
   "cell_type": "code",
   "execution_count": 84,
   "metadata": {
    "collapsed": false
   },
   "outputs": [
    {
     "name": "stdout",
     "output_type": "stream",
     "text": [
      "Лучший результат -0.435954391878 лучшие параметры {'n_estimators': 400, 'learning_rate': 0.1, 'min_samples_leaf': 4, 'max_depth': 7}\n",
      "Wall time: 7min 12s\n"
     ]
    }
   ],
   "source": [
    "%%time\n",
    "clf_params = {'n_estimators': (350, 400, 450), \n",
    "              'learning_rate': (0.1, 0.3, 0.5, 0.75, 1), \n",
    "              'min_samples_leaf': list(range(1, 14, 3)),\n",
    "              'max_depth': list(range(4, 8))}\n",
    "\n",
    "clf = classifiers[4]\n",
    "grid = GridSearchCV(clf, clf_params, cv=n_folds, \n",
    "                    n_jobs=-1, scoring=\"mean_squared_error\")\n",
    "grid.fit(X_train, y_train)\n",
    "clf_best_score = grid.best_score_\n",
    "clf_best_params = grid.best_params_\n",
    "clf_best = grid.best_estimator_\n",
    "mean_validation_scores = []\n",
    "print(\"Лучший результат\", clf_best_score, \n",
    "      \"лучшие параметры\", clf_best_params)"
   ]
  },
  {
   "cell_type": "code",
   "execution_count": 83,
   "metadata": {
    "collapsed": false
   },
   "outputs": [
    {
     "name": "stdout",
     "output_type": "stream",
     "text": [
      "r^2 on test data : 0.514309\n",
      "mse on test data : 0.367743\n"
     ]
    }
   ],
   "source": [
    "gbr = GradientBoostingRegressor(n_estimators = 400, min_samples_leaf = 4, max_depth = 7)\n",
    "y_pred_gbr = gbr.fit(X_train, y_train).predict(X_test)\n",
    "r2_score_gbr = r2_score(y_test, y_pred_gbr)\n",
    "mse_gbr = mean_squared_error(y_test, y_pred_gbr)\n",
    "print(\"r^2 on test data : %f\" % r2_score_gbr)\n",
    "print(\"mse on test data : %f\" % mse_gbr)"
   ]
  },
  {
   "cell_type": "markdown",
   "metadata": {
    "collapsed": false
   },
   "source": [
    "### <center>Построение кривых валидации и обучения</center>"
   ]
  },
  {
   "cell_type": "code",
   "execution_count": 6,
   "metadata": {
    "collapsed": true
   },
   "outputs": [],
   "source": [
    "def plot_with_std(x, data, **kwargs):\n",
    "        mu, std = data.mean(1), data.std(1)\n",
    "        lines = plt.plot(x, mu, '-', **kwargs)\n",
    "        plt.fill_between(x, mu - std, mu + std, edgecolor='none',\n",
    "                         facecolor=lines[0].get_color(), alpha=0.2)\n",
    "        \n",
    "def plot_learning_curve(clf, X, y, scoring, cv=5):\n",
    " \n",
    "    train_sizes = np.linspace(0.05, 1, 20)\n",
    "    n_train, val_train, val_test = learning_curve(clf,\n",
    "                                                  X, y, train_sizes, cv=cv,\n",
    "                                                  scoring=scoring)\n",
    "    plot_with_std(n_train, val_train, label='training scores', c='green')\n",
    "    plot_with_std(n_train, val_test, label='validation scores', c='red')\n",
    "    plt.xlabel('Training Set Size'); plt.ylabel(scoring)\n",
    "    plt.legend()\n",
    "\n",
    "def plot_validation_curve(clf, X, y, cv_param_name, \n",
    "                          cv_param_values, scoring):\n",
    "\n",
    "    val_train, val_test = validation_curve(clf, X, y, cv_param_name,\n",
    "                                           cv_param_values, cv=5,\n",
    "                                                  scoring=scoring)\n",
    "    plot_with_std(cv_param_values, val_train, \n",
    "                  label='training scores', c='green')\n",
    "    plot_with_std(cv_param_values, val_test, \n",
    "                  label='validation scores', c='red')\n",
    "    plt.xlabel(cv_param_name); plt.ylabel(scoring)\n",
    "    plt.legend()"
   ]
  },
  {
   "cell_type": "markdown",
   "metadata": {
    "collapsed": false
   },
   "source": [
    "##### Кривые обучения"
   ]
  },
  {
   "cell_type": "code",
   "execution_count": 27,
   "metadata": {
    "collapsed": false
   },
   "outputs": [
    {
     "data": {
      "image/png": "[encoded data removed]"
     },
     "metadata": {},
     "output_type": "display_data"
    }
   ],
   "source": [
    "# Кривая обучения\n",
    "plot_learning_curve(GradientBoostingRegressor(n_estimators=5),\n",
    "                   X_train, y_train, scoring='mean_squared_error', cv=5)"
   ]
  },
  {
   "cell_type": "markdown",
   "metadata": {
    "collapsed": false
   },
   "source": [
    "Для обучения простой модели оказалось достаточным 500 наблюдений, а остальные 2000 наблюдений никак не помогли. С одной стороны нужно немного данных для обучения, а с другой, не очень хороший результат. Попробуем использовать более сложную модель:"
   ]
  },
  {
   "cell_type": "code",
   "execution_count": 35,
   "metadata": {
    "collapsed": false
   },
   "outputs": [
    {
     "data": {
      "image/png": "[encoded data removed]"
     },
     "metadata": {},
     "output_type": "display_data"
    }
   ],
   "source": [
    "# Кривая обучения\n",
    "plot_learning_curve(GradientBoostingRegressor(n_estimators=300),\n",
    "                   X_train, y_train, scoring='mean_squared_error', cv=5)"
   ]
  },
  {
   "cell_type": "markdown",
   "metadata": {
    "collapsed": false
   },
   "source": [
    "Для такой модели видим, что использовали все наблюдения и результат существенно улучшили. Тот самый случай, когда все более менее оптимально. А теперь попробуем еще усложнить модель:"
   ]
  },
  {
   "cell_type": "code",
   "execution_count": 20,
   "metadata": {
    "collapsed": false
   },
   "outputs": [
    {
     "data": {
      "image/png": "[encoded data removed]"
     },
     "metadata": {},
     "output_type": "display_data"
    }
   ],
   "source": [
    "# Кривая обучения\n",
    "plot_learning_curve(GradientBoostingRegressor(n_estimators=400, max_depth = 7, min_samples_leaf = 4),\n",
    "                   X_train, y_train, scoring='mean_squared_error', cv=5)"
   ]
  },
  {
   "cell_type": "markdown",
   "metadata": {
    "collapsed": false
   },
   "source": [
    "Модель слишком сложная. Для такой модели нужны еще больше данных, чтобы улучшить результат."
   ]
  },
  {
   "cell_type": "markdown",
   "metadata": {
    "collapsed": false
   },
   "source": [
    "##### Кривые валидации"
   ]
  },
  {
   "cell_type": "code",
   "execution_count": 30,
   "metadata": {
    "collapsed": false
   },
   "outputs": [
    {
     "data": {
      "image/png": "[encoded data removed]"
     },
     "metadata": {},
     "output_type": "display_data"
    }
   ],
   "source": [
    "# Кривая валидации\n",
    "learning_rates = np.linspace(0.1, 1.5, 10)\n",
    "plot_validation_curve(GradientBoostingRegressor(n_estimators = 100, min_samples_leaf = 4, max_depth = 7), \n",
    "                    X_train, y_train, \n",
    "                    cv_param_name='learning_rate', \n",
    "                    cv_param_values=learning_rates,\n",
    "                    scoring='mean_squared_error')"
   ]
  },
  {
   "cell_type": "code",
   "execution_count": 24,
   "metadata": {
    "collapsed": false
   },
   "outputs": [
    {
     "data": {
      "image/png": "[encoded data removed]"
     },
     "metadata": {},
     "output_type": "display_data"
    }
   ],
   "source": [
    "# Кривая валидации\n",
    "estim = [5,20,50,100,150,200,300]\n",
    "plot_validation_curve(GradientBoostingRegressor(min_samples_leaf = 4, max_depth = 7), \n",
    "                    X_train, y_train, \n",
    "                    cv_param_name='n_estimators', \n",
    "                    cv_param_values=estim,\n",
    "                    scoring='mean_squared_error')"
   ]
  },
  {
   "cell_type": "markdown",
   "metadata": {
    "collapsed": false
   },
   "source": [
    "###  Часть 6. Построение признаков"
   ]
  },
  {
   "cell_type": "markdown",
   "metadata": {
    "collapsed": false
   },
   "source": [
    "###  Часть 7. Отбор признаков"
   ]
  },
  {
   "cell_type": "markdown",
   "metadata": {
    "collapsed": false
   },
   "source": [
    "###  Часть 8. Построение модели"
   ]
  },
  {
   "cell_type": "markdown",
   "metadata": {
    "collapsed": false
   },
   "source": [
    "###  Часть 9. Кросс-валидация, подбор параметров"
   ]
  },
  {
   "cell_type": "code",
   "execution_count": 0,
   "metadata": {
    "collapsed": true
   },
   "outputs": [],
   "source": []
  },
  {
   "cell_type": "markdown",
   "metadata": {
    "collapsed": false
   },
   "source": [
    "###  Часть 10. Кривые валидации и обучения"
   ]
  },
  {
   "cell_type": "code",
   "execution_count": 0,
   "metadata": {
    "collapsed": true
   },
   "outputs": [],
   "source": []
  },
  {
   "cell_type": "markdown",
   "metadata": {
    "collapsed": false
   },
   "source": [
    "###  Часть 11. Прогноз для тестовой (или отложенной) выборки"
   ]
  },
  {
   "cell_type": "code",
   "execution_count": 0,
   "metadata": {
    "collapsed": true
   },
   "outputs": [],
   "source": [
    "#ax1 = plt.subplot2grid((2,2), (0,0))\n",
    "#ax2 = plt.subplot2grid((2,2), (0,1))\n",
    "#ax3 = plt.subplot2grid((2,2), (1,0))\n",
    "#ax4 = plt.subplot2grid((2,2), (1,1))\n",
    "#plt.tight_layout(pad=1.0, w_pad=2.5, h_pad=2.0)\n",
    "\n",
    "#sns.boxplot(x=\"new_q\", y=\"alcohol\", data=df, ax = ax1)\n",
    "#sns.boxplot(x=\"new_q\", y=\"density\", data=df[df['density'] < 1.01], ax = ax2)\n",
    "#sns.boxplot(x=\"new_q\", y=\"volatile acidity\", data=df[df['volatile acidity']<0.6], ax = ax3)\n",
    "#sns.boxplot(x=\"new_q\", y=\"residual sugar\", data=df[df['residual sugar'] < 20], ax = ax4)\n",
    "#sns.boxplot(x=\"new_q\", y=\"citric acid\", data=df[df['citric acid'] < 0.6], ax = ax1)\n",
    "#sns.boxplot(x=\"new_q\", y=\"pH\", data=df[df['pH'] < 3.6], ax = ax2)\n",
    "#sns.boxplot(x=\"new_q\", y=\"sulphates\", data=df[df['sulphates'] < 0.8], ax = ax3)\n",
    "#sns.boxplot(x=\"new_q\", y=\"chlorides\", data=df[df['chlorides'] < 0.08], ax = ax4)\n",
    "#sns.boxplot(x=\"new_q\", y=\"free sulfur dioxide\", data=df[df['free sulfur dioxide'] < 80], ax = ax1)\n",
    "#sns.boxplot(x=\"new_q\", y=\"total sulfur dioxide\", data=df[df['total sulfur dioxide'] < 300], ax = ax2)\n",
    "#sns.boxplot(x=\"new_q\", y=\"fixed acidity\", data=df[df['fixed acidity']<10.5], ax = ax3)\n",
    "\n",
    "\n",
    "#sns.boxplot(x=\"quality\", y=\"citric acid\", data=df[df['citric acid'] < 0.6], ax = ax3)\n",
    "#sns.boxplot(x=\"quality\", y=\"pH\", data=df[df['pH'] < 3.6], ax = ax3)\n",
    "#sns.boxplot(x=\"quality\", y=\"sulphates\", data=df[df['sulphates'] < 0.8], ax = ax4)\n",
    "#sns.boxplot(x=\"quality\", y=\"density\", data=df[df['density'] < 1.01], ax = ax2)\n",
    "#sns.boxplot(x=\"quality\", y=\"fixed acidity\", data=df[df['fixed acidity']<10.5], ax = ax3)\n",
    "#sns.boxplot(x=\"quality\", y=\"volatile acidity\", data=df[df['volatile acidity']<0.6], ax = ax4)\n",
    "#sns.boxplot(x=\"quality\", y=\"free sulfur dioxide\", data=df[df['free sulfur dioxide'] < 80], ax = ax4)\n",
    "\n",
    "#sns.pairplot(df[df['new_q'] != 4], vars = ['alcohol', 'volatile acidity', 'density', 'chlorides', 'free sulfur dioxide', 'citric acid', 'residual sugar', 'sulphates', 'total sulfur dioxide', 'pH', 'fixed acidity'], hue = 'new_q')"
   ]
  },
  {
   "cell_type": "markdown",
   "metadata": {
    "collapsed": false
   },
   "source": [
    "###  Часть 12. Оценка модели с описанием выбранной метрики"
   ]
  },
  {
   "cell_type": "code",
   "execution_count": 0,
   "metadata": {
    "collapsed": true
   },
   "outputs": [],
   "source": [
    "#sdf = pd.DataFrame(columns = ['lasso', 'elastic', 'linear', 'rbf', 'rf', 'target'])\n",
    "test = np.asarray(y_test)\n",
    "tgt = pd.Series(test)\n",
    "sdf['lasso'] = y_pred_lasso\n",
    "sdf['elastic'] = y_pred_enet\n",
    "sdf['linear'] = y_pred_svr_linear\n",
    "sdf['rbf'] = y_pred_svr_rbf\n",
    "sdf['rf'] = y_pred\n",
    "sdf['target'] = tgt"
   ]
  },
  {
   "cell_type": "markdown",
   "metadata": {
    "collapsed": false
   },
   "source": [
    "### Часть 13. Выводы "
   ]
  },
  {
   "cell_type": "code",
   "execution_count": 0,
   "metadata": {
    "collapsed": true
   },
   "outputs": [],
   "source": []
  }
 ],
 "metadata": {
  "kernelspec": {
   "display_name": "Python 3",
   "language": "python",
   "name": "python3"
  },
  "language_info": {
   "codemirror_mode": {
    "name": "ipython",
    "version": 3
   },
   "file_extension": ".py",
   "mimetype": "text/x-python",
   "name": "python",
   "nbconvert_exporter": "python",
   "pygments_lexer": "ipython3",
   "version": "3.5.2"
  }
 },
 "nbformat": 4,
 "nbformat_minor": 0
}
