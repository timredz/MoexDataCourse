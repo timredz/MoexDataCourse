{
 "cells": [
  {
   "cell_type": "markdown",
   "metadata": {},
   "source": [
    "<img src=\"../img/logo2.png\">\n",
    "<center>\n",
    "<h2>Корзина индекса ММВБ</h2>\n",
    "</center>"
   ]
  },
  {
   "cell_type": "markdown",
   "metadata": {},
   "source": [
    "Импортируем библиотеку Pandas"
   ]
  },
  {
   "cell_type": "code",
   "execution_count": 1,
   "metadata": {
    "collapsed": false
   },
   "outputs": [],
   "source": [
    "import pandas as pd"
   ]
  },
  {
   "cell_type": "markdown",
   "metadata": {},
   "source": [
    "Считываем данные из csv файла"
   ]
  },
  {
   "cell_type": "code",
   "execution_count": 2,
   "metadata": {
    "collapsed": false
   },
   "outputs": [],
   "source": [
    "X = pd.read_csv(\"micex.csv\", sep = ';', encoding = 'cp1251')"
   ]
  },
  {
   "cell_type": "markdown",
   "metadata": {},
   "source": [
    "Посмотрим на первые строки"
   ]
  },
  {
   "cell_type": "code",
   "execution_count": 3,
   "metadata": {
    "collapsed": false
   },
   "outputs": [
    {
     "data": {
      "text/html": [
       "<div>\n",
       "<style>\n",
       "    .dataframe thead tr:only-child th {\n",
       "        text-align: right;\n",
       "    }\n",
       "\n",
       "    .dataframe thead th {\n",
       "        text-align: left;\n",
       "    }\n",
       "\n",
       "    .dataframe tbody tr th {\n",
       "        vertical-align: top;\n",
       "    }\n",
       "</style>\n",
       "<table border=\"1\" class=\"dataframe\">\n",
       "  <thead>\n",
       "    <tr style=\"text-align: right;\">\n",
       "      <th></th>\n",
       "      <th>tradedate</th>\n",
       "      <th>ticker</th>\n",
       "      <th>shortname</th>\n",
       "      <th>issue_size</th>\n",
       "      <th>cap_total</th>\n",
       "      <th>free_float</th>\n",
       "      <th>weight</th>\n",
       "      <th>volume</th>\n",
       "      <th>trades</th>\n",
       "    </tr>\n",
       "  </thead>\n",
       "  <tbody>\n",
       "    <tr>\n",
       "      <th>0</th>\n",
       "      <td>04.05.2017</td>\n",
       "      <td>AFKS</td>\n",
       "      <td>Система ао</td>\n",
       "      <td>9.650000e+09</td>\n",
       "      <td>1.398290e+11</td>\n",
       "      <td>0.36</td>\n",
       "      <td>0.53</td>\n",
       "      <td>2.597069e+09</td>\n",
       "      <td>60152</td>\n",
       "    </tr>\n",
       "    <tr>\n",
       "      <th>1</th>\n",
       "      <td>04.05.2017</td>\n",
       "      <td>AFLT</td>\n",
       "      <td>Аэрофлот</td>\n",
       "      <td>1.110616e+09</td>\n",
       "      <td>2.034094e+11</td>\n",
       "      <td>0.41</td>\n",
       "      <td>0.87</td>\n",
       "      <td>7.827018e+08</td>\n",
       "      <td>6855</td>\n",
       "    </tr>\n",
       "    <tr>\n",
       "      <th>2</th>\n",
       "      <td>04.05.2017</td>\n",
       "      <td>AGRO</td>\n",
       "      <td>AGRO-гдр</td>\n",
       "      <td>1.200000e+08</td>\n",
       "      <td>8.328000e+10</td>\n",
       "      <td>0.21</td>\n",
       "      <td>0.18</td>\n",
       "      <td>1.274858e+07</td>\n",
       "      <td>362</td>\n",
       "    </tr>\n",
       "    <tr>\n",
       "      <th>3</th>\n",
       "      <td>04.05.2017</td>\n",
       "      <td>AKRN</td>\n",
       "      <td>Акрон</td>\n",
       "      <td>4.053400e+07</td>\n",
       "      <td>1.337620e+11</td>\n",
       "      <td>0.16</td>\n",
       "      <td>0.22</td>\n",
       "      <td>6.515454e+06</td>\n",
       "      <td>182</td>\n",
       "    </tr>\n",
       "    <tr>\n",
       "      <th>4</th>\n",
       "      <td>04.05.2017</td>\n",
       "      <td>ALRS</td>\n",
       "      <td>АЛРОСА ао</td>\n",
       "      <td>7.364966e+09</td>\n",
       "      <td>6.974620e+11</td>\n",
       "      <td>0.34</td>\n",
       "      <td>2.48</td>\n",
       "      <td>1.138181e+09</td>\n",
       "      <td>15942</td>\n",
       "    </tr>\n",
       "  </tbody>\n",
       "</table>\n",
       "</div>"
      ],
      "text/plain": [
       "    tradedate ticker   shortname    issue_size     cap_total  free_float  \\\n",
       "0  04.05.2017   AFKS  Система ао  9.650000e+09  1.398290e+11        0.36   \n",
       "1  04.05.2017   AFLT    Аэрофлот  1.110616e+09  2.034094e+11        0.41   \n",
       "2  04.05.2017   AGRO    AGRO-гдр  1.200000e+08  8.328000e+10        0.21   \n",
       "3  04.05.2017   AKRN       Акрон  4.053400e+07  1.337620e+11        0.16   \n",
       "4  04.05.2017   ALRS   АЛРОСА ао  7.364966e+09  6.974620e+11        0.34   \n",
       "\n",
       "   weight        volume  trades  \n",
       "0    0.53  2.597069e+09   60152  \n",
       "1    0.87  7.827018e+08    6855  \n",
       "2    0.18  1.274858e+07     362  \n",
       "3    0.22  6.515454e+06     182  \n",
       "4    2.48  1.138181e+09   15942  "
      ]
     },
     "execution_count": 3,
     "metadata": {},
     "output_type": "execute_result"
    }
   ],
   "source": [
    "X.head()"
   ]
  },
  {
   "cell_type": "markdown",
   "metadata": {},
   "source": [
    "Получим все наименования колонок"
   ]
  },
  {
   "cell_type": "code",
   "execution_count": 4,
   "metadata": {
    "collapsed": false
   },
   "outputs": [
    {
     "data": {
      "text/plain": [
       "Index(['tradedate', 'ticker', 'shortname', 'issue_size', 'cap_total',\n",
       "       'free_float', 'weight', 'volume', 'trades'],\n",
       "      dtype='object')"
      ]
     },
     "execution_count": 4,
     "metadata": {},
     "output_type": "execute_result"
    }
   ],
   "source": [
    "X.columns"
   ]
  },
  {
   "cell_type": "markdown",
   "metadata": {},
   "source": [
    "Какой размер таблицы?"
   ]
  },
  {
   "cell_type": "code",
   "execution_count": 5,
   "metadata": {
    "collapsed": false
   },
   "outputs": [
    {
     "data": {
      "text/plain": [
       "(50, 9)"
      ]
     },
     "execution_count": 5,
     "metadata": {},
     "output_type": "execute_result"
    }
   ],
   "source": [
    "X.shape"
   ]
  },
  {
   "cell_type": "markdown",
   "metadata": {},
   "source": [
    "Посмотрим на статистическое описание наших данных"
   ]
  },
  {
   "cell_type": "code",
   "execution_count": 10,
   "metadata": {
    "collapsed": false
   },
   "outputs": [
    {
     "data": {
      "text/html": [
       "<div>\n",
       "<table border=\"1\" class=\"dataframe\">\n",
       "  <thead>\n",
       "    <tr style=\"text-align: right;\">\n",
       "      <th></th>\n",
       "      <th>tradedate</th>\n",
       "      <th>ticker</th>\n",
       "      <th>shortname</th>\n",
       "      <th>issue_size</th>\n",
       "      <th>cap_total</th>\n",
       "      <th>free_float</th>\n",
       "      <th>weight</th>\n",
       "      <th>volume</th>\n",
       "      <th>trades</th>\n",
       "    </tr>\n",
       "  </thead>\n",
       "  <tbody>\n",
       "    <tr>\n",
       "      <th>count</th>\n",
       "      <td>50</td>\n",
       "      <td>50</td>\n",
       "      <td>50</td>\n",
       "      <td>5.000000e+01</td>\n",
       "      <td>5.000000e+01</td>\n",
       "      <td>50.000000</td>\n",
       "      <td>50.00000</td>\n",
       "      <td>5.000000e+01</td>\n",
       "      <td>50.00000</td>\n",
       "    </tr>\n",
       "    <tr>\n",
       "      <th>unique</th>\n",
       "      <td>1</td>\n",
       "      <td>50</td>\n",
       "      <td>50</td>\n",
       "      <td>NaN</td>\n",
       "      <td>NaN</td>\n",
       "      <td>NaN</td>\n",
       "      <td>NaN</td>\n",
       "      <td>NaN</td>\n",
       "      <td>NaN</td>\n",
       "    </tr>\n",
       "    <tr>\n",
       "      <th>top</th>\n",
       "      <td>04.05.2017</td>\n",
       "      <td>AGRO</td>\n",
       "      <td>ЛСР ао</td>\n",
       "      <td>NaN</td>\n",
       "      <td>NaN</td>\n",
       "      <td>NaN</td>\n",
       "      <td>NaN</td>\n",
       "      <td>NaN</td>\n",
       "      <td>NaN</td>\n",
       "    </tr>\n",
       "    <tr>\n",
       "      <th>freq</th>\n",
       "      <td>50</td>\n",
       "      <td>1</td>\n",
       "      <td>1</td>\n",
       "      <td>NaN</td>\n",
       "      <td>NaN</td>\n",
       "      <td>NaN</td>\n",
       "      <td>NaN</td>\n",
       "      <td>NaN</td>\n",
       "      <td>NaN</td>\n",
       "    </tr>\n",
       "    <tr>\n",
       "      <th>mean</th>\n",
       "      <td>NaN</td>\n",
       "      <td>NaN</td>\n",
       "      <td>NaN</td>\n",
       "      <td>3.048090e+11</td>\n",
       "      <td>5.910065e+11</td>\n",
       "      <td>0.373600</td>\n",
       "      <td>2.00040</td>\n",
       "      <td>6.187795e+08</td>\n",
       "      <td>8590.70000</td>\n",
       "    </tr>\n",
       "    <tr>\n",
       "      <th>std</th>\n",
       "      <td>NaN</td>\n",
       "      <td>NaN</td>\n",
       "      <td>NaN</td>\n",
       "      <td>1.835934e+12</td>\n",
       "      <td>8.521142e+11</td>\n",
       "      <td>0.246459</td>\n",
       "      <td>3.39587</td>\n",
       "      <td>1.147241e+09</td>\n",
       "      <td>12248.07211</td>\n",
       "    </tr>\n",
       "    <tr>\n",
       "      <th>min</th>\n",
       "      <td>NaN</td>\n",
       "      <td>NaN</td>\n",
       "      <td>NaN</td>\n",
       "      <td>1.554875e+06</td>\n",
       "      <td>1.192426e+10</td>\n",
       "      <td>0.050000</td>\n",
       "      <td>0.09000</td>\n",
       "      <td>3.634421e+06</td>\n",
       "      <td>180.00000</td>\n",
       "    </tr>\n",
       "    <tr>\n",
       "      <th>25%</th>\n",
       "      <td>NaN</td>\n",
       "      <td>NaN</td>\n",
       "      <td>NaN</td>\n",
       "      <td>1.824831e+08</td>\n",
       "      <td>1.108900e+11</td>\n",
       "      <td>0.185000</td>\n",
       "      <td>0.27250</td>\n",
       "      <td>3.107590e+07</td>\n",
       "      <td>985.00000</td>\n",
       "    </tr>\n",
       "    <tr>\n",
       "      <th>50%</th>\n",
       "      <td>NaN</td>\n",
       "      <td>NaN</td>\n",
       "      <td>NaN</td>\n",
       "      <td>1.554499e+09</td>\n",
       "      <td>2.825589e+11</td>\n",
       "      <td>0.320000</td>\n",
       "      <td>0.61500</td>\n",
       "      <td>1.793029e+08</td>\n",
       "      <td>3343.00000</td>\n",
       "    </tr>\n",
       "    <tr>\n",
       "      <th>75%</th>\n",
       "      <td>NaN</td>\n",
       "      <td>NaN</td>\n",
       "      <td>NaN</td>\n",
       "      <td>1.418834e+10</td>\n",
       "      <td>6.515252e+11</td>\n",
       "      <td>0.460000</td>\n",
       "      <td>2.32000</td>\n",
       "      <td>6.136669e+08</td>\n",
       "      <td>11898.75000</td>\n",
       "    </tr>\n",
       "    <tr>\n",
       "      <th>max</th>\n",
       "      <td>NaN</td>\n",
       "      <td>NaN</td>\n",
       "      <td>NaN</td>\n",
       "      <td>1.296050e+13</td>\n",
       "      <td>3.572640e+12</td>\n",
       "      <td>1.000000</td>\n",
       "      <td>15.37000</td>\n",
       "      <td>6.235159e+09</td>\n",
       "      <td>60152.00000</td>\n",
       "    </tr>\n",
       "  </tbody>\n",
       "</table>\n",
       "</div>"
      ],
      "text/plain": [
       "         tradedate ticker shortname    issue_size     cap_total  free_float  \\\n",
       "count           50     50        50  5.000000e+01  5.000000e+01   50.000000   \n",
       "unique           1     50        50           NaN           NaN         NaN   \n",
       "top     04.05.2017   AGRO    ЛСР ао           NaN           NaN         NaN   \n",
       "freq            50      1         1           NaN           NaN         NaN   \n",
       "mean           NaN    NaN       NaN  3.048090e+11  5.910065e+11    0.373600   \n",
       "std            NaN    NaN       NaN  1.835934e+12  8.521142e+11    0.246459   \n",
       "min            NaN    NaN       NaN  1.554875e+06  1.192426e+10    0.050000   \n",
       "25%            NaN    NaN       NaN  1.824831e+08  1.108900e+11    0.185000   \n",
       "50%            NaN    NaN       NaN  1.554499e+09  2.825589e+11    0.320000   \n",
       "75%            NaN    NaN       NaN  1.418834e+10  6.515252e+11    0.460000   \n",
       "max            NaN    NaN       NaN  1.296050e+13  3.572640e+12    1.000000   \n",
       "\n",
       "          weight        volume       trades  \n",
       "count   50.00000  5.000000e+01     50.00000  \n",
       "unique       NaN           NaN          NaN  \n",
       "top          NaN           NaN          NaN  \n",
       "freq         NaN           NaN          NaN  \n",
       "mean     2.00040  6.187795e+08   8590.70000  \n",
       "std      3.39587  1.147241e+09  12248.07211  \n",
       "min      0.09000  3.634421e+06    180.00000  \n",
       "25%      0.27250  3.107590e+07    985.00000  \n",
       "50%      0.61500  1.793029e+08   3343.00000  \n",
       "75%      2.32000  6.136669e+08  11898.75000  \n",
       "max     15.37000  6.235159e+09  60152.00000  "
      ]
     },
     "execution_count": 10,
     "metadata": {},
     "output_type": "execute_result"
    }
   ],
   "source": [
    "X.describe(include = 'all')"
   ]
  },
  {
   "cell_type": "markdown",
   "metadata": {},
   "source": [
    "Получим уникальные значения кодов ценных бумаг"
   ]
  },
  {
   "cell_type": "code",
   "execution_count": 7,
   "metadata": {
    "collapsed": false
   },
   "outputs": [
    {
     "data": {
      "text/plain": [
       "array(['AFKS', 'AFLT', 'AGRO', 'AKRN', 'ALRS', 'BANEP', 'CBOM', 'CHMF',\n",
       "       'DIXY', 'FEES', 'GAZP', 'GMKN', 'HYDR', 'IRAO', 'LKOH', 'LSRG',\n",
       "       'MAGN', 'MFON', 'MGNT', 'MOEX', 'MSNG', 'MTLR', 'MTLRP', 'MTSS',\n",
       "       'MVID', 'NLMK', 'NMTP', 'NVTK', 'PHOR', 'PIKK', 'PLZL', 'POLY',\n",
       "       'ROSN', 'RSTI', 'RTKM', 'RTKMP', 'RUAL', 'SBER', 'SBERP', 'SNGS',\n",
       "       'SNGSP', 'TATN', 'TATNP', 'TRMK', 'TRNFP', 'UPRO', 'URKA', 'UWGN',\n",
       "       'VTBR', 'YNDX'], dtype=object)"
      ]
     },
     "execution_count": 7,
     "metadata": {},
     "output_type": "execute_result"
    }
   ],
   "source": [
    "X['ticker'].unique()"
   ]
  },
  {
   "cell_type": "markdown",
   "metadata": {},
   "source": [
    "Отсортируем данные по весу бумаг в индексе и посмотрим на топ 5"
   ]
  },
  {
   "cell_type": "code",
   "execution_count": 8,
   "metadata": {
    "collapsed": false
   },
   "outputs": [
    {
     "data": {
      "text/html": [
       "<div>\n",
       "<table border=\"1\" class=\"dataframe\">\n",
       "  <thead>\n",
       "    <tr style=\"text-align: right;\">\n",
       "      <th></th>\n",
       "      <th>tradedate</th>\n",
       "      <th>ticker</th>\n",
       "      <th>shortname</th>\n",
       "      <th>issue_size</th>\n",
       "      <th>cap_total</th>\n",
       "      <th>free_float</th>\n",
       "      <th>weight</th>\n",
       "      <th>volume</th>\n",
       "      <th>trades</th>\n",
       "    </tr>\n",
       "  </thead>\n",
       "  <tbody>\n",
       "    <tr>\n",
       "      <th>10</th>\n",
       "      <td>04.05.2017</td>\n",
       "      <td>GAZP</td>\n",
       "      <td>ГАЗПРОМ ао</td>\n",
       "      <td>23673512900</td>\n",
       "      <td>3.194270e+12</td>\n",
       "      <td>0.46</td>\n",
       "      <td>15.37</td>\n",
       "      <td>4.322423e+09</td>\n",
       "      <td>31814</td>\n",
       "    </tr>\n",
       "    <tr>\n",
       "      <th>37</th>\n",
       "      <td>04.05.2017</td>\n",
       "      <td>SBER</td>\n",
       "      <td>Сбербанк</td>\n",
       "      <td>21586948000</td>\n",
       "      <td>3.572640e+12</td>\n",
       "      <td>0.48</td>\n",
       "      <td>15.10</td>\n",
       "      <td>6.235159e+09</td>\n",
       "      <td>37906</td>\n",
       "    </tr>\n",
       "    <tr>\n",
       "      <th>14</th>\n",
       "      <td>04.05.2017</td>\n",
       "      <td>LKOH</td>\n",
       "      <td>ЛУКОЙЛ</td>\n",
       "      <td>850563255</td>\n",
       "      <td>2.364570e+12</td>\n",
       "      <td>0.46</td>\n",
       "      <td>11.38</td>\n",
       "      <td>2.151846e+09</td>\n",
       "      <td>16173</td>\n",
       "    </tr>\n",
       "    <tr>\n",
       "      <th>27</th>\n",
       "      <td>04.05.2017</td>\n",
       "      <td>NVTK</td>\n",
       "      <td>Новатэк ао</td>\n",
       "      <td>3036306000</td>\n",
       "      <td>2.104160e+12</td>\n",
       "      <td>0.27</td>\n",
       "      <td>5.94</td>\n",
       "      <td>3.663164e+08</td>\n",
       "      <td>3459</td>\n",
       "    </tr>\n",
       "    <tr>\n",
       "      <th>18</th>\n",
       "      <td>04.05.2017</td>\n",
       "      <td>MGNT</td>\n",
       "      <td>Магнит ао</td>\n",
       "      <td>94561355</td>\n",
       "      <td>8.360170e+11</td>\n",
       "      <td>0.63</td>\n",
       "      <td>5.51</td>\n",
       "      <td>8.481276e+08</td>\n",
       "      <td>7008</td>\n",
       "    </tr>\n",
       "  </tbody>\n",
       "</table>\n",
       "</div>"
      ],
      "text/plain": [
       "     tradedate ticker   shortname   issue_size     cap_total  free_float  \\\n",
       "10  04.05.2017   GAZP  ГАЗПРОМ ао  23673512900  3.194270e+12        0.46   \n",
       "37  04.05.2017   SBER    Сбербанк  21586948000  3.572640e+12        0.48   \n",
       "14  04.05.2017   LKOH      ЛУКОЙЛ    850563255  2.364570e+12        0.46   \n",
       "27  04.05.2017   NVTK  Новатэк ао   3036306000  2.104160e+12        0.27   \n",
       "18  04.05.2017   MGNT   Магнит ао     94561355  8.360170e+11        0.63   \n",
       "\n",
       "    weight        volume  trades  \n",
       "10   15.37  4.322423e+09   31814  \n",
       "37   15.10  6.235159e+09   37906  \n",
       "14   11.38  2.151846e+09   16173  \n",
       "27    5.94  3.663164e+08    3459  \n",
       "18    5.51  8.481276e+08    7008  "
      ]
     },
     "execution_count": 8,
     "metadata": {},
     "output_type": "execute_result"
    }
   ],
   "source": [
    "X.sort_values(by = 'weight', ascending = False).head()"
   ]
  },
  {
   "cell_type": "markdown",
   "metadata": {},
   "source": [
    "Отсортируем данные по объему торгов и посмотрим на топ 10"
   ]
  },
  {
   "cell_type": "code",
   "execution_count": 9,
   "metadata": {
    "collapsed": false
   },
   "outputs": [
    {
     "data": {
      "text/html": [
       "<div>\n",
       "<table border=\"1\" class=\"dataframe\">\n",
       "  <thead>\n",
       "    <tr style=\"text-align: right;\">\n",
       "      <th></th>\n",
       "      <th>tradedate</th>\n",
       "      <th>ticker</th>\n",
       "      <th>shortname</th>\n",
       "      <th>issue_size</th>\n",
       "      <th>cap_total</th>\n",
       "      <th>free_float</th>\n",
       "      <th>weight</th>\n",
       "      <th>volume</th>\n",
       "      <th>trades</th>\n",
       "    </tr>\n",
       "  </thead>\n",
       "  <tbody>\n",
       "    <tr>\n",
       "      <th>37</th>\n",
       "      <td>04.05.2017</td>\n",
       "      <td>SBER</td>\n",
       "      <td>Сбербанк</td>\n",
       "      <td>21586948000</td>\n",
       "      <td>3.572640e+12</td>\n",
       "      <td>0.48</td>\n",
       "      <td>15.10</td>\n",
       "      <td>6.235159e+09</td>\n",
       "      <td>37906</td>\n",
       "    </tr>\n",
       "    <tr>\n",
       "      <th>10</th>\n",
       "      <td>04.05.2017</td>\n",
       "      <td>GAZP</td>\n",
       "      <td>ГАЗПРОМ ао</td>\n",
       "      <td>23673512900</td>\n",
       "      <td>3.194270e+12</td>\n",
       "      <td>0.46</td>\n",
       "      <td>15.37</td>\n",
       "      <td>4.322423e+09</td>\n",
       "      <td>31814</td>\n",
       "    </tr>\n",
       "    <tr>\n",
       "      <th>0</th>\n",
       "      <td>04.05.2017</td>\n",
       "      <td>AFKS</td>\n",
       "      <td>Система ао</td>\n",
       "      <td>9650000000</td>\n",
       "      <td>1.398290e+11</td>\n",
       "      <td>0.36</td>\n",
       "      <td>0.53</td>\n",
       "      <td>2.597069e+09</td>\n",
       "      <td>60152</td>\n",
       "    </tr>\n",
       "    <tr>\n",
       "      <th>14</th>\n",
       "      <td>04.05.2017</td>\n",
       "      <td>LKOH</td>\n",
       "      <td>ЛУКОЙЛ</td>\n",
       "      <td>850563255</td>\n",
       "      <td>2.364570e+12</td>\n",
       "      <td>0.46</td>\n",
       "      <td>11.38</td>\n",
       "      <td>2.151846e+09</td>\n",
       "      <td>16173</td>\n",
       "    </tr>\n",
       "    <tr>\n",
       "      <th>23</th>\n",
       "      <td>04.05.2017</td>\n",
       "      <td>MTSS</td>\n",
       "      <td>МТС-ао</td>\n",
       "      <td>1998381575</td>\n",
       "      <td>4.926011e+11</td>\n",
       "      <td>0.48</td>\n",
       "      <td>2.47</td>\n",
       "      <td>2.039337e+09</td>\n",
       "      <td>37523</td>\n",
       "    </tr>\n",
       "    <tr>\n",
       "      <th>11</th>\n",
       "      <td>04.05.2017</td>\n",
       "      <td>GMKN</td>\n",
       "      <td>ГМКНорНик</td>\n",
       "      <td>158245476</td>\n",
       "      <td>1.376890e+12</td>\n",
       "      <td>0.33</td>\n",
       "      <td>4.75</td>\n",
       "      <td>1.435966e+09</td>\n",
       "      <td>12588</td>\n",
       "    </tr>\n",
       "    <tr>\n",
       "      <th>19</th>\n",
       "      <td>04.05.2017</td>\n",
       "      <td>MOEX</td>\n",
       "      <td>МосБиржа</td>\n",
       "      <td>2278636493</td>\n",
       "      <td>2.614508e+11</td>\n",
       "      <td>0.57</td>\n",
       "      <td>1.56</td>\n",
       "      <td>1.282448e+09</td>\n",
       "      <td>34578</td>\n",
       "    </tr>\n",
       "    <tr>\n",
       "      <th>32</th>\n",
       "      <td>04.05.2017</td>\n",
       "      <td>ROSN</td>\n",
       "      <td>Роснефть</td>\n",
       "      <td>10598177817</td>\n",
       "      <td>3.285440e+12</td>\n",
       "      <td>0.11</td>\n",
       "      <td>3.78</td>\n",
       "      <td>1.183577e+09</td>\n",
       "      <td>11223</td>\n",
       "    </tr>\n",
       "    <tr>\n",
       "      <th>4</th>\n",
       "      <td>04.05.2017</td>\n",
       "      <td>ALRS</td>\n",
       "      <td>АЛРОСА ао</td>\n",
       "      <td>7364965630</td>\n",
       "      <td>6.974620e+11</td>\n",
       "      <td>0.34</td>\n",
       "      <td>2.48</td>\n",
       "      <td>1.138181e+09</td>\n",
       "      <td>15942</td>\n",
       "    </tr>\n",
       "    <tr>\n",
       "      <th>18</th>\n",
       "      <td>04.05.2017</td>\n",
       "      <td>MGNT</td>\n",
       "      <td>Магнит ао</td>\n",
       "      <td>94561355</td>\n",
       "      <td>8.360170e+11</td>\n",
       "      <td>0.63</td>\n",
       "      <td>5.51</td>\n",
       "      <td>8.481276e+08</td>\n",
       "      <td>7008</td>\n",
       "    </tr>\n",
       "  </tbody>\n",
       "</table>\n",
       "</div>"
      ],
      "text/plain": [
       "     tradedate ticker   shortname   issue_size     cap_total  free_float  \\\n",
       "37  04.05.2017   SBER    Сбербанк  21586948000  3.572640e+12        0.48   \n",
       "10  04.05.2017   GAZP  ГАЗПРОМ ао  23673512900  3.194270e+12        0.46   \n",
       "0   04.05.2017   AFKS  Система ао   9650000000  1.398290e+11        0.36   \n",
       "14  04.05.2017   LKOH      ЛУКОЙЛ    850563255  2.364570e+12        0.46   \n",
       "23  04.05.2017   MTSS      МТС-ао   1998381575  4.926011e+11        0.48   \n",
       "11  04.05.2017   GMKN   ГМКНорНик    158245476  1.376890e+12        0.33   \n",
       "19  04.05.2017   MOEX    МосБиржа   2278636493  2.614508e+11        0.57   \n",
       "32  04.05.2017   ROSN    Роснефть  10598177817  3.285440e+12        0.11   \n",
       "4   04.05.2017   ALRS   АЛРОСА ао   7364965630  6.974620e+11        0.34   \n",
       "18  04.05.2017   MGNT   Магнит ао     94561355  8.360170e+11        0.63   \n",
       "\n",
       "    weight        volume  trades  \n",
       "37   15.10  6.235159e+09   37906  \n",
       "10   15.37  4.322423e+09   31814  \n",
       "0     0.53  2.597069e+09   60152  \n",
       "14   11.38  2.151846e+09   16173  \n",
       "23    2.47  2.039337e+09   37523  \n",
       "11    4.75  1.435966e+09   12588  \n",
       "19    1.56  1.282448e+09   34578  \n",
       "32    3.78  1.183577e+09   11223  \n",
       "4     2.48  1.138181e+09   15942  \n",
       "18    5.51  8.481276e+08    7008  "
      ]
     },
     "execution_count": 9,
     "metadata": {},
     "output_type": "execute_result"
    }
   ],
   "source": [
    "X = X.sort_values(by = 'volume', ascending = False)\n",
    "X.head(10)"
   ]
  },
  {
   "cell_type": "markdown",
   "metadata": {},
   "source": [
    "Выведем топ 5 бумаг с минимальным объмом"
   ]
  },
  {
   "cell_type": "code",
   "execution_count": 10,
   "metadata": {
    "collapsed": false
   },
   "outputs": [
    {
     "data": {
      "text/html": [
       "<div>\n",
       "<table border=\"1\" class=\"dataframe\">\n",
       "  <thead>\n",
       "    <tr style=\"text-align: right;\">\n",
       "      <th></th>\n",
       "      <th>tradedate</th>\n",
       "      <th>ticker</th>\n",
       "      <th>shortname</th>\n",
       "      <th>issue_size</th>\n",
       "      <th>cap_total</th>\n",
       "      <th>free_float</th>\n",
       "      <th>weight</th>\n",
       "      <th>volume</th>\n",
       "      <th>trades</th>\n",
       "    </tr>\n",
       "  </thead>\n",
       "  <tbody>\n",
       "    <tr>\n",
       "      <th>2</th>\n",
       "      <td>04.05.2017</td>\n",
       "      <td>AGRO</td>\n",
       "      <td>AGRO-гдр</td>\n",
       "      <td>120000000</td>\n",
       "      <td>8.328000e+10</td>\n",
       "      <td>0.21</td>\n",
       "      <td>0.18</td>\n",
       "      <td>12748579</td>\n",
       "      <td>362</td>\n",
       "    </tr>\n",
       "    <tr>\n",
       "      <th>8</th>\n",
       "      <td>04.05.2017</td>\n",
       "      <td>DIXY</td>\n",
       "      <td>ДИКСИ ао</td>\n",
       "      <td>124750000</td>\n",
       "      <td>2.746995e+10</td>\n",
       "      <td>0.46</td>\n",
       "      <td>0.13</td>\n",
       "      <td>7202025</td>\n",
       "      <td>386</td>\n",
       "    </tr>\n",
       "    <tr>\n",
       "      <th>3</th>\n",
       "      <td>04.05.2017</td>\n",
       "      <td>AKRN</td>\n",
       "      <td>Акрон</td>\n",
       "      <td>40534000</td>\n",
       "      <td>1.337620e+11</td>\n",
       "      <td>0.16</td>\n",
       "      <td>0.22</td>\n",
       "      <td>6515454</td>\n",
       "      <td>182</td>\n",
       "    </tr>\n",
       "    <tr>\n",
       "      <th>26</th>\n",
       "      <td>04.05.2017</td>\n",
       "      <td>NMTP</td>\n",
       "      <td>НМТП ао</td>\n",
       "      <td>19259815400</td>\n",
       "      <td>1.375150e+11</td>\n",
       "      <td>0.15</td>\n",
       "      <td>0.22</td>\n",
       "      <td>6445375</td>\n",
       "      <td>316</td>\n",
       "    </tr>\n",
       "    <tr>\n",
       "      <th>15</th>\n",
       "      <td>04.05.2017</td>\n",
       "      <td>LSRG</td>\n",
       "      <td>ЛСР ао</td>\n",
       "      <td>103030215</td>\n",
       "      <td>9.169689e+10</td>\n",
       "      <td>0.33</td>\n",
       "      <td>0.16</td>\n",
       "      <td>3634421</td>\n",
       "      <td>288</td>\n",
       "    </tr>\n",
       "  </tbody>\n",
       "</table>\n",
       "</div>"
      ],
      "text/plain": [
       "     tradedate ticker shortname   issue_size     cap_total  free_float  \\\n",
       "2   04.05.2017   AGRO  AGRO-гдр    120000000  8.328000e+10        0.21   \n",
       "8   04.05.2017   DIXY  ДИКСИ ао    124750000  2.746995e+10        0.46   \n",
       "3   04.05.2017   AKRN     Акрон     40534000  1.337620e+11        0.16   \n",
       "26  04.05.2017   NMTP   НМТП ао  19259815400  1.375150e+11        0.15   \n",
       "15  04.05.2017   LSRG    ЛСР ао    103030215  9.169689e+10        0.33   \n",
       "\n",
       "    weight    volume  trades  \n",
       "2     0.18  12748579     362  \n",
       "8     0.13   7202025     386  \n",
       "3     0.22   6515454     182  \n",
       "26    0.22   6445375     316  \n",
       "15    0.16   3634421     288  "
      ]
     },
     "execution_count": 10,
     "metadata": {},
     "output_type": "execute_result"
    }
   ],
   "source": [
    "X.tail(5)"
   ]
  },
  {
   "cell_type": "markdown",
   "metadata": {},
   "source": [
    "Создадим новую колонку \"средний объем сделки\" - trade_size"
   ]
  },
  {
   "cell_type": "code",
   "execution_count": 11,
   "metadata": {
    "collapsed": false
   },
   "outputs": [
    {
     "data": {
      "text/html": [
       "<div>\n",
       "<table border=\"1\" class=\"dataframe\">\n",
       "  <thead>\n",
       "    <tr style=\"text-align: right;\">\n",
       "      <th></th>\n",
       "      <th>tradedate</th>\n",
       "      <th>ticker</th>\n",
       "      <th>shortname</th>\n",
       "      <th>issue_size</th>\n",
       "      <th>cap_total</th>\n",
       "      <th>free_float</th>\n",
       "      <th>weight</th>\n",
       "      <th>volume</th>\n",
       "      <th>trades</th>\n",
       "      <th>trade_size</th>\n",
       "    </tr>\n",
       "  </thead>\n",
       "  <tbody>\n",
       "    <tr>\n",
       "      <th>37</th>\n",
       "      <td>04.05.2017</td>\n",
       "      <td>SBER</td>\n",
       "      <td>Сбербанк</td>\n",
       "      <td>21586948000</td>\n",
       "      <td>3.572640e+12</td>\n",
       "      <td>0.48</td>\n",
       "      <td>15.10</td>\n",
       "      <td>6.235159e+09</td>\n",
       "      <td>37906</td>\n",
       "      <td>164490.016678</td>\n",
       "    </tr>\n",
       "    <tr>\n",
       "      <th>10</th>\n",
       "      <td>04.05.2017</td>\n",
       "      <td>GAZP</td>\n",
       "      <td>ГАЗПРОМ ао</td>\n",
       "      <td>23673512900</td>\n",
       "      <td>3.194270e+12</td>\n",
       "      <td>0.46</td>\n",
       "      <td>15.37</td>\n",
       "      <td>4.322423e+09</td>\n",
       "      <td>31814</td>\n",
       "      <td>135865.447435</td>\n",
       "    </tr>\n",
       "    <tr>\n",
       "      <th>0</th>\n",
       "      <td>04.05.2017</td>\n",
       "      <td>AFKS</td>\n",
       "      <td>Система ао</td>\n",
       "      <td>9650000000</td>\n",
       "      <td>1.398290e+11</td>\n",
       "      <td>0.36</td>\n",
       "      <td>0.53</td>\n",
       "      <td>2.597069e+09</td>\n",
       "      <td>60152</td>\n",
       "      <td>43175.099914</td>\n",
       "    </tr>\n",
       "    <tr>\n",
       "      <th>14</th>\n",
       "      <td>04.05.2017</td>\n",
       "      <td>LKOH</td>\n",
       "      <td>ЛУКОЙЛ</td>\n",
       "      <td>850563255</td>\n",
       "      <td>2.364570e+12</td>\n",
       "      <td>0.46</td>\n",
       "      <td>11.38</td>\n",
       "      <td>2.151846e+09</td>\n",
       "      <td>16173</td>\n",
       "      <td>133051.767143</td>\n",
       "    </tr>\n",
       "    <tr>\n",
       "      <th>23</th>\n",
       "      <td>04.05.2017</td>\n",
       "      <td>MTSS</td>\n",
       "      <td>МТС-ао</td>\n",
       "      <td>1998381575</td>\n",
       "      <td>4.926011e+11</td>\n",
       "      <td>0.48</td>\n",
       "      <td>2.47</td>\n",
       "      <td>2.039337e+09</td>\n",
       "      <td>37523</td>\n",
       "      <td>54348.978626</td>\n",
       "    </tr>\n",
       "  </tbody>\n",
       "</table>\n",
       "</div>"
      ],
      "text/plain": [
       "     tradedate ticker   shortname   issue_size     cap_total  free_float  \\\n",
       "37  04.05.2017   SBER    Сбербанк  21586948000  3.572640e+12        0.48   \n",
       "10  04.05.2017   GAZP  ГАЗПРОМ ао  23673512900  3.194270e+12        0.46   \n",
       "0   04.05.2017   AFKS  Система ао   9650000000  1.398290e+11        0.36   \n",
       "14  04.05.2017   LKOH      ЛУКОЙЛ    850563255  2.364570e+12        0.46   \n",
       "23  04.05.2017   MTSS      МТС-ао   1998381575  4.926011e+11        0.48   \n",
       "\n",
       "    weight        volume  trades     trade_size  \n",
       "37   15.10  6.235159e+09   37906  164490.016678  \n",
       "10   15.37  4.322423e+09   31814  135865.447435  \n",
       "0     0.53  2.597069e+09   60152   43175.099914  \n",
       "14   11.38  2.151846e+09   16173  133051.767143  \n",
       "23    2.47  2.039337e+09   37523   54348.978626  "
      ]
     },
     "execution_count": 11,
     "metadata": {},
     "output_type": "execute_result"
    }
   ],
   "source": [
    "X['trade_size'] = X['volume'] / X['trades']\n",
    "X.head()"
   ]
  },
  {
   "cell_type": "markdown",
   "metadata": {},
   "source": [
    "Удалим ненужный столбец tradedate"
   ]
  },
  {
   "cell_type": "code",
   "execution_count": 12,
   "metadata": {
    "collapsed": false
   },
   "outputs": [
    {
     "data": {
      "text/html": [
       "<div>\n",
       "<table border=\"1\" class=\"dataframe\">\n",
       "  <thead>\n",
       "    <tr style=\"text-align: right;\">\n",
       "      <th></th>\n",
       "      <th>ticker</th>\n",
       "      <th>shortname</th>\n",
       "      <th>issue_size</th>\n",
       "      <th>cap_total</th>\n",
       "      <th>free_float</th>\n",
       "      <th>weight</th>\n",
       "      <th>volume</th>\n",
       "      <th>trades</th>\n",
       "      <th>trade_size</th>\n",
       "    </tr>\n",
       "  </thead>\n",
       "  <tbody>\n",
       "    <tr>\n",
       "      <th>37</th>\n",
       "      <td>SBER</td>\n",
       "      <td>Сбербанк</td>\n",
       "      <td>21586948000</td>\n",
       "      <td>3.572640e+12</td>\n",
       "      <td>0.48</td>\n",
       "      <td>15.10</td>\n",
       "      <td>6.235159e+09</td>\n",
       "      <td>37906</td>\n",
       "      <td>164490.016678</td>\n",
       "    </tr>\n",
       "    <tr>\n",
       "      <th>10</th>\n",
       "      <td>GAZP</td>\n",
       "      <td>ГАЗПРОМ ао</td>\n",
       "      <td>23673512900</td>\n",
       "      <td>3.194270e+12</td>\n",
       "      <td>0.46</td>\n",
       "      <td>15.37</td>\n",
       "      <td>4.322423e+09</td>\n",
       "      <td>31814</td>\n",
       "      <td>135865.447435</td>\n",
       "    </tr>\n",
       "    <tr>\n",
       "      <th>0</th>\n",
       "      <td>AFKS</td>\n",
       "      <td>Система ао</td>\n",
       "      <td>9650000000</td>\n",
       "      <td>1.398290e+11</td>\n",
       "      <td>0.36</td>\n",
       "      <td>0.53</td>\n",
       "      <td>2.597069e+09</td>\n",
       "      <td>60152</td>\n",
       "      <td>43175.099914</td>\n",
       "    </tr>\n",
       "    <tr>\n",
       "      <th>14</th>\n",
       "      <td>LKOH</td>\n",
       "      <td>ЛУКОЙЛ</td>\n",
       "      <td>850563255</td>\n",
       "      <td>2.364570e+12</td>\n",
       "      <td>0.46</td>\n",
       "      <td>11.38</td>\n",
       "      <td>2.151846e+09</td>\n",
       "      <td>16173</td>\n",
       "      <td>133051.767143</td>\n",
       "    </tr>\n",
       "    <tr>\n",
       "      <th>23</th>\n",
       "      <td>MTSS</td>\n",
       "      <td>МТС-ао</td>\n",
       "      <td>1998381575</td>\n",
       "      <td>4.926011e+11</td>\n",
       "      <td>0.48</td>\n",
       "      <td>2.47</td>\n",
       "      <td>2.039337e+09</td>\n",
       "      <td>37523</td>\n",
       "      <td>54348.978626</td>\n",
       "    </tr>\n",
       "  </tbody>\n",
       "</table>\n",
       "</div>"
      ],
      "text/plain": [
       "   ticker   shortname   issue_size     cap_total  free_float  weight  \\\n",
       "37   SBER    Сбербанк  21586948000  3.572640e+12        0.48   15.10   \n",
       "10   GAZP  ГАЗПРОМ ао  23673512900  3.194270e+12        0.46   15.37   \n",
       "0    AFKS  Система ао   9650000000  1.398290e+11        0.36    0.53   \n",
       "14   LKOH      ЛУКОЙЛ    850563255  2.364570e+12        0.46   11.38   \n",
       "23   MTSS      МТС-ао   1998381575  4.926011e+11        0.48    2.47   \n",
       "\n",
       "          volume  trades     trade_size  \n",
       "37  6.235159e+09   37906  164490.016678  \n",
       "10  4.322423e+09   31814  135865.447435  \n",
       "0   2.597069e+09   60152   43175.099914  \n",
       "14  2.151846e+09   16173  133051.767143  \n",
       "23  2.039337e+09   37523   54348.978626  "
      ]
     },
     "execution_count": 12,
     "metadata": {},
     "output_type": "execute_result"
    }
   ],
   "source": [
    "X.drop(['tradedate'], axis = 1, inplace = True)\n",
    "X.head()"
   ]
  },
  {
   "cell_type": "markdown",
   "metadata": {},
   "source": [
    "Найдем в таблице MOEX"
   ]
  },
  {
   "cell_type": "code",
   "execution_count": 13,
   "metadata": {
    "collapsed": false
   },
   "outputs": [
    {
     "data": {
      "text/html": [
       "<div>\n",
       "<table border=\"1\" class=\"dataframe\">\n",
       "  <thead>\n",
       "    <tr style=\"text-align: right;\">\n",
       "      <th></th>\n",
       "      <th>ticker</th>\n",
       "      <th>shortname</th>\n",
       "      <th>issue_size</th>\n",
       "      <th>cap_total</th>\n",
       "      <th>free_float</th>\n",
       "      <th>weight</th>\n",
       "      <th>volume</th>\n",
       "      <th>trades</th>\n",
       "      <th>trade_size</th>\n",
       "    </tr>\n",
       "  </thead>\n",
       "  <tbody>\n",
       "    <tr>\n",
       "      <th>19</th>\n",
       "      <td>MOEX</td>\n",
       "      <td>МосБиржа</td>\n",
       "      <td>2278636493</td>\n",
       "      <td>2.614508e+11</td>\n",
       "      <td>0.57</td>\n",
       "      <td>1.56</td>\n",
       "      <td>1.282448e+09</td>\n",
       "      <td>34578</td>\n",
       "      <td>37088.556663</td>\n",
       "    </tr>\n",
       "  </tbody>\n",
       "</table>\n",
       "</div>"
      ],
      "text/plain": [
       "   ticker shortname  issue_size     cap_total  free_float  weight  \\\n",
       "19   MOEX  МосБиржа  2278636493  2.614508e+11        0.57    1.56   \n",
       "\n",
       "          volume  trades    trade_size  \n",
       "19  1.282448e+09   34578  37088.556663  "
      ]
     },
     "execution_count": 13,
     "metadata": {},
     "output_type": "execute_result"
    }
   ],
   "source": [
    "X[X['ticker'] == 'MOEX']"
   ]
  },
  {
   "cell_type": "markdown",
   "metadata": {},
   "source": [
    "Переименуем shortname на 'Московская Биржа'"
   ]
  },
  {
   "cell_type": "code",
   "execution_count": 14,
   "metadata": {
    "collapsed": false
   },
   "outputs": [
    {
     "data": {
      "text/html": [
       "<div>\n",
       "<table border=\"1\" class=\"dataframe\">\n",
       "  <thead>\n",
       "    <tr style=\"text-align: right;\">\n",
       "      <th></th>\n",
       "      <th>ticker</th>\n",
       "      <th>shortname</th>\n",
       "      <th>issue_size</th>\n",
       "      <th>cap_total</th>\n",
       "      <th>free_float</th>\n",
       "      <th>weight</th>\n",
       "      <th>volume</th>\n",
       "      <th>trades</th>\n",
       "      <th>trade_size</th>\n",
       "    </tr>\n",
       "  </thead>\n",
       "  <tbody>\n",
       "    <tr>\n",
       "      <th>19</th>\n",
       "      <td>MOEX</td>\n",
       "      <td>Московская Биржа</td>\n",
       "      <td>2278636493</td>\n",
       "      <td>2.614508e+11</td>\n",
       "      <td>0.57</td>\n",
       "      <td>1.56</td>\n",
       "      <td>1.282448e+09</td>\n",
       "      <td>34578</td>\n",
       "      <td>37088.556663</td>\n",
       "    </tr>\n",
       "  </tbody>\n",
       "</table>\n",
       "</div>"
      ],
      "text/plain": [
       "   ticker         shortname  issue_size     cap_total  free_float  weight  \\\n",
       "19   MOEX  Московская Биржа  2278636493  2.614508e+11        0.57    1.56   \n",
       "\n",
       "          volume  trades    trade_size  \n",
       "19  1.282448e+09   34578  37088.556663  "
      ]
     },
     "execution_count": 14,
     "metadata": {},
     "output_type": "execute_result"
    }
   ],
   "source": [
    "X.loc[19, 'shortname'] = 'Московская Биржа'\n",
    "X[X['ticker'] == 'MOEX']"
   ]
  },
  {
   "cell_type": "markdown",
   "metadata": {},
   "source": [
    "Переименуем колонку cap_total на capitalization"
   ]
  },
  {
   "cell_type": "code",
   "execution_count": 15,
   "metadata": {
    "collapsed": false
   },
   "outputs": [
    {
     "data": {
      "text/html": [
       "<div>\n",
       "<table border=\"1\" class=\"dataframe\">\n",
       "  <thead>\n",
       "    <tr style=\"text-align: right;\">\n",
       "      <th></th>\n",
       "      <th>ticker</th>\n",
       "      <th>shortname</th>\n",
       "      <th>issue_size</th>\n",
       "      <th>capitalization</th>\n",
       "      <th>free_float</th>\n",
       "      <th>weight</th>\n",
       "      <th>volume</th>\n",
       "      <th>trades</th>\n",
       "      <th>trade_size</th>\n",
       "    </tr>\n",
       "  </thead>\n",
       "  <tbody>\n",
       "    <tr>\n",
       "      <th>37</th>\n",
       "      <td>SBER</td>\n",
       "      <td>Сбербанк</td>\n",
       "      <td>21586948000</td>\n",
       "      <td>3.572640e+12</td>\n",
       "      <td>0.48</td>\n",
       "      <td>15.10</td>\n",
       "      <td>6.235159e+09</td>\n",
       "      <td>37906</td>\n",
       "      <td>164490.016678</td>\n",
       "    </tr>\n",
       "    <tr>\n",
       "      <th>10</th>\n",
       "      <td>GAZP</td>\n",
       "      <td>ГАЗПРОМ ао</td>\n",
       "      <td>23673512900</td>\n",
       "      <td>3.194270e+12</td>\n",
       "      <td>0.46</td>\n",
       "      <td>15.37</td>\n",
       "      <td>4.322423e+09</td>\n",
       "      <td>31814</td>\n",
       "      <td>135865.447435</td>\n",
       "    </tr>\n",
       "    <tr>\n",
       "      <th>0</th>\n",
       "      <td>AFKS</td>\n",
       "      <td>Система ао</td>\n",
       "      <td>9650000000</td>\n",
       "      <td>1.398290e+11</td>\n",
       "      <td>0.36</td>\n",
       "      <td>0.53</td>\n",
       "      <td>2.597069e+09</td>\n",
       "      <td>60152</td>\n",
       "      <td>43175.099914</td>\n",
       "    </tr>\n",
       "    <tr>\n",
       "      <th>14</th>\n",
       "      <td>LKOH</td>\n",
       "      <td>ЛУКОЙЛ</td>\n",
       "      <td>850563255</td>\n",
       "      <td>2.364570e+12</td>\n",
       "      <td>0.46</td>\n",
       "      <td>11.38</td>\n",
       "      <td>2.151846e+09</td>\n",
       "      <td>16173</td>\n",
       "      <td>133051.767143</td>\n",
       "    </tr>\n",
       "    <tr>\n",
       "      <th>23</th>\n",
       "      <td>MTSS</td>\n",
       "      <td>МТС-ао</td>\n",
       "      <td>1998381575</td>\n",
       "      <td>4.926011e+11</td>\n",
       "      <td>0.48</td>\n",
       "      <td>2.47</td>\n",
       "      <td>2.039337e+09</td>\n",
       "      <td>37523</td>\n",
       "      <td>54348.978626</td>\n",
       "    </tr>\n",
       "  </tbody>\n",
       "</table>\n",
       "</div>"
      ],
      "text/plain": [
       "   ticker   shortname   issue_size  capitalization  free_float  weight  \\\n",
       "37   SBER    Сбербанк  21586948000    3.572640e+12        0.48   15.10   \n",
       "10   GAZP  ГАЗПРОМ ао  23673512900    3.194270e+12        0.46   15.37   \n",
       "0    AFKS  Система ао   9650000000    1.398290e+11        0.36    0.53   \n",
       "14   LKOH      ЛУКОЙЛ    850563255    2.364570e+12        0.46   11.38   \n",
       "23   MTSS      МТС-ао   1998381575    4.926011e+11        0.48    2.47   \n",
       "\n",
       "          volume  trades     trade_size  \n",
       "37  6.235159e+09   37906  164490.016678  \n",
       "10  4.322423e+09   31814  135865.447435  \n",
       "0   2.597069e+09   60152   43175.099914  \n",
       "14  2.151846e+09   16173  133051.767143  \n",
       "23  2.039337e+09   37523   54348.978626  "
      ]
     },
     "execution_count": 15,
     "metadata": {},
     "output_type": "execute_result"
    }
   ],
   "source": [
    "X.rename(columns = {'cap_total' : 'capitalization'}, inplace = True)\n",
    "X.head()"
   ]
  },
  {
   "cell_type": "markdown",
   "metadata": {},
   "source": [
    "## Выделение подтаблиц\n",
    "\n",
    "Таблица из трех колонок"
   ]
  },
  {
   "cell_type": "code",
   "execution_count": 16,
   "metadata": {
    "collapsed": false
   },
   "outputs": [
    {
     "data": {
      "text/html": [
       "<div>\n",
       "<table border=\"1\" class=\"dataframe\">\n",
       "  <thead>\n",
       "    <tr style=\"text-align: right;\">\n",
       "      <th></th>\n",
       "      <th>ticker</th>\n",
       "      <th>free_float</th>\n",
       "      <th>weight</th>\n",
       "    </tr>\n",
       "  </thead>\n",
       "  <tbody>\n",
       "    <tr>\n",
       "      <th>37</th>\n",
       "      <td>SBER</td>\n",
       "      <td>0.48</td>\n",
       "      <td>15.10</td>\n",
       "    </tr>\n",
       "    <tr>\n",
       "      <th>10</th>\n",
       "      <td>GAZP</td>\n",
       "      <td>0.46</td>\n",
       "      <td>15.37</td>\n",
       "    </tr>\n",
       "    <tr>\n",
       "      <th>0</th>\n",
       "      <td>AFKS</td>\n",
       "      <td>0.36</td>\n",
       "      <td>0.53</td>\n",
       "    </tr>\n",
       "    <tr>\n",
       "      <th>14</th>\n",
       "      <td>LKOH</td>\n",
       "      <td>0.46</td>\n",
       "      <td>11.38</td>\n",
       "    </tr>\n",
       "    <tr>\n",
       "      <th>23</th>\n",
       "      <td>MTSS</td>\n",
       "      <td>0.48</td>\n",
       "      <td>2.47</td>\n",
       "    </tr>\n",
       "  </tbody>\n",
       "</table>\n",
       "</div>"
      ],
      "text/plain": [
       "   ticker  free_float  weight\n",
       "37   SBER        0.48   15.10\n",
       "10   GAZP        0.46   15.37\n",
       "0    AFKS        0.36    0.53\n",
       "14   LKOH        0.46   11.38\n",
       "23   MTSS        0.48    2.47"
      ]
     },
     "execution_count": 16,
     "metadata": {},
     "output_type": "execute_result"
    }
   ],
   "source": [
    "Y1 = X[['ticker', 'free_float', 'weight']]\n",
    "Y1.head()"
   ]
  },
  {
   "cell_type": "markdown",
   "metadata": {},
   "source": [
    "Таблица из трех колонок и строки с 20 по 25"
   ]
  },
  {
   "cell_type": "code",
   "execution_count": 17,
   "metadata": {
    "collapsed": false
   },
   "outputs": [
    {
     "data": {
      "text/html": [
       "<div>\n",
       "<table border=\"1\" class=\"dataframe\">\n",
       "  <thead>\n",
       "    <tr style=\"text-align: right;\">\n",
       "      <th></th>\n",
       "      <th>ticker</th>\n",
       "      <th>free_float</th>\n",
       "      <th>weight</th>\n",
       "    </tr>\n",
       "  </thead>\n",
       "  <tbody>\n",
       "    <tr>\n",
       "      <th>44</th>\n",
       "      <td>TRNFP</td>\n",
       "      <td>1.00</td>\n",
       "      <td>3.18</td>\n",
       "    </tr>\n",
       "    <tr>\n",
       "      <th>13</th>\n",
       "      <td>IRAO</td>\n",
       "      <td>0.29</td>\n",
       "      <td>1.28</td>\n",
       "    </tr>\n",
       "    <tr>\n",
       "      <th>12</th>\n",
       "      <td>HYDR</td>\n",
       "      <td>0.23</td>\n",
       "      <td>0.81</td>\n",
       "    </tr>\n",
       "    <tr>\n",
       "      <th>17</th>\n",
       "      <td>MFON</td>\n",
       "      <td>0.15</td>\n",
       "      <td>0.58</td>\n",
       "    </tr>\n",
       "    <tr>\n",
       "      <th>25</th>\n",
       "      <td>NLMK</td>\n",
       "      <td>0.16</td>\n",
       "      <td>1.08</td>\n",
       "    </tr>\n",
       "  </tbody>\n",
       "</table>\n",
       "</div>"
      ],
      "text/plain": [
       "   ticker  free_float  weight\n",
       "44  TRNFP        1.00    3.18\n",
       "13   IRAO        0.29    1.28\n",
       "12   HYDR        0.23    0.81\n",
       "17   MFON        0.15    0.58\n",
       "25   NLMK        0.16    1.08"
      ]
     },
     "execution_count": 17,
     "metadata": {},
     "output_type": "execute_result"
    }
   ],
   "source": [
    "Y2 = X[['ticker', 'free_float', 'weight']][20:25]\n",
    "Y2.head()"
   ]
  },
  {
   "cell_type": "markdown",
   "metadata": {},
   "source": [
    "Таблица из 4 колонок и объем бумаг менее 100 млн"
   ]
  },
  {
   "cell_type": "code",
   "execution_count": 18,
   "metadata": {
    "collapsed": false
   },
   "outputs": [
    {
     "data": {
      "text/html": [
       "<div>\n",
       "<table border=\"1\" class=\"dataframe\">\n",
       "  <thead>\n",
       "    <tr style=\"text-align: right;\">\n",
       "      <th></th>\n",
       "      <th>ticker</th>\n",
       "      <th>free_float</th>\n",
       "      <th>weight</th>\n",
       "      <th>volume</th>\n",
       "    </tr>\n",
       "  </thead>\n",
       "  <tbody>\n",
       "    <tr>\n",
       "      <th>34</th>\n",
       "      <td>RTKM</td>\n",
       "      <td>0.32</td>\n",
       "      <td>0.65</td>\n",
       "      <td>71759488.2</td>\n",
       "    </tr>\n",
       "    <tr>\n",
       "      <th>28</th>\n",
       "      <td>PHOR</td>\n",
       "      <td>0.25</td>\n",
       "      <td>0.82</td>\n",
       "      <td>71329936.0</td>\n",
       "    </tr>\n",
       "    <tr>\n",
       "      <th>43</th>\n",
       "      <td>TRMK</td>\n",
       "      <td>0.30</td>\n",
       "      <td>0.25</td>\n",
       "      <td>60034400.7</td>\n",
       "    </tr>\n",
       "    <tr>\n",
       "      <th>45</th>\n",
       "      <td>UPRO</td>\n",
       "      <td>0.18</td>\n",
       "      <td>0.30</td>\n",
       "      <td>52859097.0</td>\n",
       "    </tr>\n",
       "    <tr>\n",
       "      <th>31</th>\n",
       "      <td>POLY</td>\n",
       "      <td>0.37</td>\n",
       "      <td>1.21</td>\n",
       "      <td>49018303.5</td>\n",
       "    </tr>\n",
       "  </tbody>\n",
       "</table>\n",
       "</div>"
      ],
      "text/plain": [
       "   ticker  free_float  weight      volume\n",
       "34   RTKM        0.32    0.65  71759488.2\n",
       "28   PHOR        0.25    0.82  71329936.0\n",
       "43   TRMK        0.30    0.25  60034400.7\n",
       "45   UPRO        0.18    0.30  52859097.0\n",
       "31   POLY        0.37    1.21  49018303.5"
      ]
     },
     "execution_count": 18,
     "metadata": {},
     "output_type": "execute_result"
    }
   ],
   "source": [
    "Y3 = X[['ticker', 'free_float', 'weight', 'volume']][X['volume'] < 10**8]\n",
    "Y3.head()"
   ]
  },
  {
   "cell_type": "markdown",
   "metadata": {},
   "source": [
    "Пример функции в Python"
   ]
  },
  {
   "cell_type": "code",
   "execution_count": 19,
   "metadata": {
    "collapsed": true
   },
   "outputs": [],
   "source": [
    "def cap(x):\n",
    "    if x > 10**11:\n",
    "        return 'high'  #высокая капитализация\n",
    "    else:\n",
    "        return 'low'   #низкая капитализация"
   ]
  },
  {
   "cell_type": "markdown",
   "metadata": {},
   "source": [
    "## Применение функции к столбцу\n",
    "Создадим новую колонку. Если капитализация компании больше 100 млрд, то cap_label = high, если меньше, то cap_label = low"
   ]
  },
  {
   "cell_type": "code",
   "execution_count": 20,
   "metadata": {
    "collapsed": true
   },
   "outputs": [],
   "source": [
    "X['cap_label'] = X['capitalization'].apply(cap)"
   ]
  },
  {
   "cell_type": "markdown",
   "metadata": {},
   "source": [
    "Количество компаний с высокой капитализацией"
   ]
  },
  {
   "cell_type": "code",
   "execution_count": 21,
   "metadata": {
    "collapsed": false
   },
   "outputs": [
    {
     "data": {
      "text/plain": [
       "38"
      ]
     },
     "execution_count": 21,
     "metadata": {},
     "output_type": "execute_result"
    }
   ],
   "source": [
    "len(X[X['cap_label'] == 'high'])"
   ]
  },
  {
   "cell_type": "markdown",
   "metadata": {},
   "source": [
    "Таблица корреляции показателей"
   ]
  },
  {
   "cell_type": "code",
   "execution_count": 22,
   "metadata": {
    "collapsed": false
   },
   "outputs": [
    {
     "data": {
      "text/html": [
       "<div>\n",
       "<table border=\"1\" class=\"dataframe\">\n",
       "  <thead>\n",
       "    <tr style=\"text-align: right;\">\n",
       "      <th></th>\n",
       "      <th>issue_size</th>\n",
       "      <th>capitalization</th>\n",
       "      <th>free_float</th>\n",
       "      <th>weight</th>\n",
       "      <th>volume</th>\n",
       "      <th>trades</th>\n",
       "      <th>trade_size</th>\n",
       "    </tr>\n",
       "  </thead>\n",
       "  <tbody>\n",
       "    <tr>\n",
       "      <th>issue_size</th>\n",
       "      <td>1.000000</td>\n",
       "      <td>0.040019</td>\n",
       "      <td>-0.006702</td>\n",
       "      <td>0.057841</td>\n",
       "      <td>-0.000915</td>\n",
       "      <td>0.074121</td>\n",
       "      <td>-0.066890</td>\n",
       "    </tr>\n",
       "    <tr>\n",
       "      <th>capitalization</th>\n",
       "      <td>0.040019</td>\n",
       "      <td>1.000000</td>\n",
       "      <td>-0.079873</td>\n",
       "      <td>0.883841</td>\n",
       "      <td>0.745991</td>\n",
       "      <td>0.382433</td>\n",
       "      <td>0.446756</td>\n",
       "    </tr>\n",
       "    <tr>\n",
       "      <th>free_float</th>\n",
       "      <td>-0.006702</td>\n",
       "      <td>-0.079873</td>\n",
       "      <td>1.000000</td>\n",
       "      <td>0.148327</td>\n",
       "      <td>0.130750</td>\n",
       "      <td>0.117151</td>\n",
       "      <td>0.299940</td>\n",
       "    </tr>\n",
       "    <tr>\n",
       "      <th>weight</th>\n",
       "      <td>0.057841</td>\n",
       "      <td>0.883841</td>\n",
       "      <td>0.148327</td>\n",
       "      <td>1.000000</td>\n",
       "      <td>0.855118</td>\n",
       "      <td>0.472007</td>\n",
       "      <td>0.512471</td>\n",
       "    </tr>\n",
       "    <tr>\n",
       "      <th>volume</th>\n",
       "      <td>-0.000915</td>\n",
       "      <td>0.745991</td>\n",
       "      <td>0.130750</td>\n",
       "      <td>0.855118</td>\n",
       "      <td>1.000000</td>\n",
       "      <td>0.780350</td>\n",
       "      <td>0.394991</td>\n",
       "    </tr>\n",
       "    <tr>\n",
       "      <th>trades</th>\n",
       "      <td>0.074121</td>\n",
       "      <td>0.382433</td>\n",
       "      <td>0.117151</td>\n",
       "      <td>0.472007</td>\n",
       "      <td>0.780350</td>\n",
       "      <td>1.000000</td>\n",
       "      <td>0.100087</td>\n",
       "    </tr>\n",
       "    <tr>\n",
       "      <th>trade_size</th>\n",
       "      <td>-0.066890</td>\n",
       "      <td>0.446756</td>\n",
       "      <td>0.299940</td>\n",
       "      <td>0.512471</td>\n",
       "      <td>0.394991</td>\n",
       "      <td>0.100087</td>\n",
       "      <td>1.000000</td>\n",
       "    </tr>\n",
       "  </tbody>\n",
       "</table>\n",
       "</div>"
      ],
      "text/plain": [
       "                issue_size  capitalization  free_float    weight    volume  \\\n",
       "issue_size        1.000000        0.040019   -0.006702  0.057841 -0.000915   \n",
       "capitalization    0.040019        1.000000   -0.079873  0.883841  0.745991   \n",
       "free_float       -0.006702       -0.079873    1.000000  0.148327  0.130750   \n",
       "weight            0.057841        0.883841    0.148327  1.000000  0.855118   \n",
       "volume           -0.000915        0.745991    0.130750  0.855118  1.000000   \n",
       "trades            0.074121        0.382433    0.117151  0.472007  0.780350   \n",
       "trade_size       -0.066890        0.446756    0.299940  0.512471  0.394991   \n",
       "\n",
       "                  trades  trade_size  \n",
       "issue_size      0.074121   -0.066890  \n",
       "capitalization  0.382433    0.446756  \n",
       "free_float      0.117151    0.299940  \n",
       "weight          0.472007    0.512471  \n",
       "volume          0.780350    0.394991  \n",
       "trades          1.000000    0.100087  \n",
       "trade_size      0.100087    1.000000  "
      ]
     },
     "execution_count": 22,
     "metadata": {},
     "output_type": "execute_result"
    }
   ],
   "source": [
    "X.corr()"
   ]
  },
  {
   "cell_type": "markdown",
   "metadata": {},
   "source": [
    "Результаты изменений запишем в новый csv файл"
   ]
  },
  {
   "cell_type": "code",
   "execution_count": 23,
   "metadata": {
    "collapsed": true
   },
   "outputs": [],
   "source": [
    "X.to_csv('micex_modified.csv')"
   ]
  }
 ],
 "metadata": {
  "kernelspec": {
   "display_name": "Python 3",
   "language": "python",
   "name": "python3"
  },
  "language_info": {
   "codemirror_mode": {
    "name": "ipython",
    "version": 3
   },
   "file_extension": ".py",
   "mimetype": "text/x-python",
   "name": "python",
   "nbconvert_exporter": "python",
   "pygments_lexer": "ipython3",
   "version": "3.5.2"
  }
 },
 "nbformat": 4,
 "nbformat_minor": 0
}
