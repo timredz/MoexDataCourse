{
 "cells": [
  {
   "cell_type": "markdown",
   "metadata": {},
   "source": [
    "<center><img src=\"wine.jpeg\"></center>\n"
   ]
  },
  {
   "cell_type": "markdown",
   "metadata": {},
   "source": [
    "### <center> Индивидуальный проект по анализу данных </center>\n",
    "### <center> Автор: Тимур Реджепов</center>\n",
    "### <center> Оценка качества белого вина</center>\n",
    "##### <center> В проекте анализируются данные исследования образцов португальских белых вин \"Vinho Verdi\". Объект - образцы вин, признаки - их физико-химические свойства </center>"
   ]
  },
  {
   "cell_type": "markdown",
   "metadata": {},
   "source": [
    "###  Часть 1. Описание набора данных и признаков\n",
    "##### Цель:\n",
    " Оценить качество вина от 0 до 10. 0 - самое низкое качество, 10 - высшее качество\n",
    " \n",
    " ##### Набор данных (признаки):\n",
    "    1.  fixed acidity - Кислотность (стабильная)\n",
    "    2.  volatile acidity - Кислотность (изменчивая)\n",
    "    3.  citric acid - Лимонная кислота\n",
    "    4.  residual sugar - Сахар\n",
    "    5.  chlorides - Хлориды\n",
    "    6.  free sulfur dioxide - Диоксид серы (свободный)\n",
    "    7.  total sulfur dioxide - Диоксид серы (суммарный)\n",
    "    8.  density - Плотность\n",
    "    9.  pH - Водоро́дный показа́тель\n",
    "    10. sulphates - Сульфаты\n",
    "    11. alcohol - Спирт\n",
    "    12. quality - Качество (целевая переменная)"
   ]
  },
  {
   "cell_type": "code",
   "execution_count": 1,
   "metadata": {
    "collapsed": false
   },
   "outputs": [
    {
     "name": "stdout",
     "output_type": "stream",
     "text": [
      "Populating the interactive namespace from numpy and matplotlib\n"
     ]
    }
   ],
   "source": [
    "from __future__ import division, print_function\n",
    "# отключим всякие предупреждения Anaconda\n",
    "import warnings\n",
    "warnings.filterwarnings('ignore')\n",
    "import numpy as np\n",
    "import pandas as pd\n",
    "import seaborn as sns\n",
    "import matplotlib.pyplot as plt\n",
    "\n",
    "from sklearn import preprocessing\n",
    "from sklearn.linear_model import LogisticRegression\n",
    "from sklearn.neighbors import KNeighborsClassifier\n",
    "from sklearn.ensemble import RandomForestClassifier\n",
    "from sklearn.ensemble import RandomForestRegressor\n",
    "from sklearn.ensemble import GradientBoostingClassifier\n",
    "from sklearn.svm import SVC\n",
    "from sklearn.feature_selection import VarianceThreshold\n",
    "\n",
    "from sklearn.grid_search import GridSearchCV\n",
    "from sklearn.cross_validation import StratifiedKFold\n",
    "from sklearn.cross_validation import train_test_split\n",
    "from sklearn.learning_curve import validation_curve\n",
    "from sklearn.learning_curve import learning_curve\n",
    "from sklearn.metrics import f1_score\n",
    "from sklearn.metrics import accuracy_score\n",
    "\n",
    "from sklearn.preprocessing import scale\n",
    "from sklearn.metrics import mean_squared_error\n",
    "from sklearn.metrics import explained_variance_score\n",
    "from sklearn.metrics import mean_absolute_error\n",
    "from sklearn.metrics import median_absolute_error\n",
    "from sklearn.metrics import r2_score\n",
    "from sklearn.linear_model import Lasso\n",
    "from sklearn.linear_model import ElasticNet\n",
    "from sklearn.svm import SVR\n",
    "\n",
    "%pylab inline"
   ]
  },
  {
   "cell_type": "markdown",
   "metadata": {},
   "source": [
    "###  Часть 2. Первичный анализ признаков"
   ]
  },
  {
   "cell_type": "code",
   "execution_count": 2,
   "metadata": {
    "collapsed": false
   },
   "outputs": [
    {
     "data": {
      "text/html": [
       "<div>\n",
       "<table border=\"1\" class=\"dataframe\">\n",
       "  <thead>\n",
       "    <tr style=\"text-align: right;\">\n",
       "      <th></th>\n",
       "      <th>fixed acidity</th>\n",
       "      <th>volatile acidity</th>\n",
       "      <th>citric acid</th>\n",
       "      <th>residual sugar</th>\n",
       "      <th>chlorides</th>\n",
       "      <th>free sulfur dioxide</th>\n",
       "      <th>total sulfur dioxide</th>\n",
       "      <th>density</th>\n",
       "      <th>pH</th>\n",
       "      <th>sulphates</th>\n",
       "      <th>alcohol</th>\n",
       "      <th>quality</th>\n",
       "    </tr>\n",
       "  </thead>\n",
       "  <tbody>\n",
       "    <tr>\n",
       "      <th>0</th>\n",
       "      <td>7.0</td>\n",
       "      <td>0.27</td>\n",
       "      <td>0.36</td>\n",
       "      <td>20.7</td>\n",
       "      <td>0.045</td>\n",
       "      <td>45.0</td>\n",
       "      <td>170.0</td>\n",
       "      <td>1.0010</td>\n",
       "      <td>3.00</td>\n",
       "      <td>0.45</td>\n",
       "      <td>8.8</td>\n",
       "      <td>6</td>\n",
       "    </tr>\n",
       "    <tr>\n",
       "      <th>1</th>\n",
       "      <td>6.3</td>\n",
       "      <td>0.30</td>\n",
       "      <td>0.34</td>\n",
       "      <td>1.6</td>\n",
       "      <td>0.049</td>\n",
       "      <td>14.0</td>\n",
       "      <td>132.0</td>\n",
       "      <td>0.9940</td>\n",
       "      <td>3.30</td>\n",
       "      <td>0.49</td>\n",
       "      <td>9.5</td>\n",
       "      <td>6</td>\n",
       "    </tr>\n",
       "    <tr>\n",
       "      <th>2</th>\n",
       "      <td>8.1</td>\n",
       "      <td>0.28</td>\n",
       "      <td>0.40</td>\n",
       "      <td>6.9</td>\n",
       "      <td>0.050</td>\n",
       "      <td>30.0</td>\n",
       "      <td>97.0</td>\n",
       "      <td>0.9951</td>\n",
       "      <td>3.26</td>\n",
       "      <td>0.44</td>\n",
       "      <td>10.1</td>\n",
       "      <td>6</td>\n",
       "    </tr>\n",
       "    <tr>\n",
       "      <th>3</th>\n",
       "      <td>7.2</td>\n",
       "      <td>0.23</td>\n",
       "      <td>0.32</td>\n",
       "      <td>8.5</td>\n",
       "      <td>0.058</td>\n",
       "      <td>47.0</td>\n",
       "      <td>186.0</td>\n",
       "      <td>0.9956</td>\n",
       "      <td>3.19</td>\n",
       "      <td>0.40</td>\n",
       "      <td>9.9</td>\n",
       "      <td>6</td>\n",
       "    </tr>\n",
       "    <tr>\n",
       "      <th>4</th>\n",
       "      <td>7.2</td>\n",
       "      <td>0.23</td>\n",
       "      <td>0.32</td>\n",
       "      <td>8.5</td>\n",
       "      <td>0.058</td>\n",
       "      <td>47.0</td>\n",
       "      <td>186.0</td>\n",
       "      <td>0.9956</td>\n",
       "      <td>3.19</td>\n",
       "      <td>0.40</td>\n",
       "      <td>9.9</td>\n",
       "      <td>6</td>\n",
       "    </tr>\n",
       "  </tbody>\n",
       "</table>\n",
       "</div>"
      ],
      "text/plain": [
       "   fixed acidity  volatile acidity  citric acid  residual sugar  chlorides  \\\n",
       "0            7.0              0.27         0.36            20.7      0.045   \n",
       "1            6.3              0.30         0.34             1.6      0.049   \n",
       "2            8.1              0.28         0.40             6.9      0.050   \n",
       "3            7.2              0.23         0.32             8.5      0.058   \n",
       "4            7.2              0.23         0.32             8.5      0.058   \n",
       "\n",
       "   free sulfur dioxide  total sulfur dioxide  density    pH  sulphates  \\\n",
       "0                 45.0                 170.0   1.0010  3.00       0.45   \n",
       "1                 14.0                 132.0   0.9940  3.30       0.49   \n",
       "2                 30.0                  97.0   0.9951  3.26       0.44   \n",
       "3                 47.0                 186.0   0.9956  3.19       0.40   \n",
       "4                 47.0                 186.0   0.9956  3.19       0.40   \n",
       "\n",
       "   alcohol  quality  \n",
       "0      8.8        6  \n",
       "1      9.5        6  \n",
       "2     10.1        6  \n",
       "3      9.9        6  \n",
       "4      9.9        6  "
      ]
     },
     "execution_count": 2,
     "metadata": {},
     "output_type": "execute_result"
    }
   ],
   "source": [
    "# Чтение данных\n",
    "data = pd.read_csv('winequality-white.csv', ';')\n",
    "data.head(5)"
   ]
  },
  {
   "cell_type": "code",
   "execution_count": 3,
   "metadata": {
    "collapsed": false
   },
   "outputs": [
    {
     "name": "stdout",
     "output_type": "stream",
     "text": [
      "<class 'pandas.core.frame.DataFrame'>\n",
      "RangeIndex: 4898 entries, 0 to 4897\n",
      "Data columns (total 12 columns):\n",
      "fixed acidity           4898 non-null float64\n",
      "volatile acidity        4898 non-null float64\n",
      "citric acid             4898 non-null float64\n",
      "residual sugar          4898 non-null float64\n",
      "chlorides               4898 non-null float64\n",
      "free sulfur dioxide     4898 non-null float64\n",
      "total sulfur dioxide    4898 non-null float64\n",
      "density                 4898 non-null float64\n",
      "pH                      4898 non-null float64\n",
      "sulphates               4898 non-null float64\n",
      "alcohol                 4898 non-null float64\n",
      "quality                 4898 non-null int64\n",
      "dtypes: float64(11), int64(1)\n",
      "memory usage: 459.3 KB\n"
     ]
    }
   ],
   "source": [
    "#Посмотрим на типы данных\n",
    "data.info()\n",
    "\n",
    "# Все данные заполнены, пропусков нет."
   ]
  },
  {
   "cell_type": "code",
   "execution_count": 4,
   "metadata": {
    "collapsed": false
   },
   "outputs": [
    {
     "data": {
      "text/html": [
       "<div>\n",
       "<table border=\"1\" class=\"dataframe\">\n",
       "  <thead>\n",
       "    <tr style=\"text-align: right;\">\n",
       "      <th></th>\n",
       "      <th>count</th>\n",
       "      <th>mean</th>\n",
       "      <th>std</th>\n",
       "      <th>min</th>\n",
       "      <th>25%</th>\n",
       "      <th>50%</th>\n",
       "      <th>75%</th>\n",
       "      <th>max</th>\n",
       "    </tr>\n",
       "  </thead>\n",
       "  <tbody>\n",
       "    <tr>\n",
       "      <th>fixed acidity</th>\n",
       "      <td>4898.0</td>\n",
       "      <td>6.854788</td>\n",
       "      <td>0.843868</td>\n",
       "      <td>3.80000</td>\n",
       "      <td>6.300000</td>\n",
       "      <td>6.80000</td>\n",
       "      <td>7.3000</td>\n",
       "      <td>14.20000</td>\n",
       "    </tr>\n",
       "    <tr>\n",
       "      <th>volatile acidity</th>\n",
       "      <td>4898.0</td>\n",
       "      <td>0.278241</td>\n",
       "      <td>0.100795</td>\n",
       "      <td>0.08000</td>\n",
       "      <td>0.210000</td>\n",
       "      <td>0.26000</td>\n",
       "      <td>0.3200</td>\n",
       "      <td>1.10000</td>\n",
       "    </tr>\n",
       "    <tr>\n",
       "      <th>citric acid</th>\n",
       "      <td>4898.0</td>\n",
       "      <td>0.334192</td>\n",
       "      <td>0.121020</td>\n",
       "      <td>0.00000</td>\n",
       "      <td>0.270000</td>\n",
       "      <td>0.32000</td>\n",
       "      <td>0.3900</td>\n",
       "      <td>1.66000</td>\n",
       "    </tr>\n",
       "    <tr>\n",
       "      <th>residual sugar</th>\n",
       "      <td>4898.0</td>\n",
       "      <td>6.391415</td>\n",
       "      <td>5.072058</td>\n",
       "      <td>0.60000</td>\n",
       "      <td>1.700000</td>\n",
       "      <td>5.20000</td>\n",
       "      <td>9.9000</td>\n",
       "      <td>65.80000</td>\n",
       "    </tr>\n",
       "    <tr>\n",
       "      <th>chlorides</th>\n",
       "      <td>4898.0</td>\n",
       "      <td>0.045772</td>\n",
       "      <td>0.021848</td>\n",
       "      <td>0.00900</td>\n",
       "      <td>0.036000</td>\n",
       "      <td>0.04300</td>\n",
       "      <td>0.0500</td>\n",
       "      <td>0.34600</td>\n",
       "    </tr>\n",
       "    <tr>\n",
       "      <th>free sulfur dioxide</th>\n",
       "      <td>4898.0</td>\n",
       "      <td>35.308085</td>\n",
       "      <td>17.007137</td>\n",
       "      <td>2.00000</td>\n",
       "      <td>23.000000</td>\n",
       "      <td>34.00000</td>\n",
       "      <td>46.0000</td>\n",
       "      <td>289.00000</td>\n",
       "    </tr>\n",
       "    <tr>\n",
       "      <th>total sulfur dioxide</th>\n",
       "      <td>4898.0</td>\n",
       "      <td>138.360657</td>\n",
       "      <td>42.498065</td>\n",
       "      <td>9.00000</td>\n",
       "      <td>108.000000</td>\n",
       "      <td>134.00000</td>\n",
       "      <td>167.0000</td>\n",
       "      <td>440.00000</td>\n",
       "    </tr>\n",
       "    <tr>\n",
       "      <th>density</th>\n",
       "      <td>4898.0</td>\n",
       "      <td>0.994027</td>\n",
       "      <td>0.002991</td>\n",
       "      <td>0.98711</td>\n",
       "      <td>0.991723</td>\n",
       "      <td>0.99374</td>\n",
       "      <td>0.9961</td>\n",
       "      <td>1.03898</td>\n",
       "    </tr>\n",
       "    <tr>\n",
       "      <th>pH</th>\n",
       "      <td>4898.0</td>\n",
       "      <td>3.188267</td>\n",
       "      <td>0.151001</td>\n",
       "      <td>2.72000</td>\n",
       "      <td>3.090000</td>\n",
       "      <td>3.18000</td>\n",
       "      <td>3.2800</td>\n",
       "      <td>3.82000</td>\n",
       "    </tr>\n",
       "    <tr>\n",
       "      <th>sulphates</th>\n",
       "      <td>4898.0</td>\n",
       "      <td>0.489847</td>\n",
       "      <td>0.114126</td>\n",
       "      <td>0.22000</td>\n",
       "      <td>0.410000</td>\n",
       "      <td>0.47000</td>\n",
       "      <td>0.5500</td>\n",
       "      <td>1.08000</td>\n",
       "    </tr>\n",
       "    <tr>\n",
       "      <th>alcohol</th>\n",
       "      <td>4898.0</td>\n",
       "      <td>10.514267</td>\n",
       "      <td>1.230621</td>\n",
       "      <td>8.00000</td>\n",
       "      <td>9.500000</td>\n",
       "      <td>10.40000</td>\n",
       "      <td>11.4000</td>\n",
       "      <td>14.20000</td>\n",
       "    </tr>\n",
       "    <tr>\n",
       "      <th>quality</th>\n",
       "      <td>4898.0</td>\n",
       "      <td>5.877909</td>\n",
       "      <td>0.885639</td>\n",
       "      <td>3.00000</td>\n",
       "      <td>5.000000</td>\n",
       "      <td>6.00000</td>\n",
       "      <td>6.0000</td>\n",
       "      <td>9.00000</td>\n",
       "    </tr>\n",
       "  </tbody>\n",
       "</table>\n",
       "</div>"
      ],
      "text/plain": [
       "                       count        mean        std      min         25%  \\\n",
       "fixed acidity         4898.0    6.854788   0.843868  3.80000    6.300000   \n",
       "volatile acidity      4898.0    0.278241   0.100795  0.08000    0.210000   \n",
       "citric acid           4898.0    0.334192   0.121020  0.00000    0.270000   \n",
       "residual sugar        4898.0    6.391415   5.072058  0.60000    1.700000   \n",
       "chlorides             4898.0    0.045772   0.021848  0.00900    0.036000   \n",
       "free sulfur dioxide   4898.0   35.308085  17.007137  2.00000   23.000000   \n",
       "total sulfur dioxide  4898.0  138.360657  42.498065  9.00000  108.000000   \n",
       "density               4898.0    0.994027   0.002991  0.98711    0.991723   \n",
       "pH                    4898.0    3.188267   0.151001  2.72000    3.090000   \n",
       "sulphates             4898.0    0.489847   0.114126  0.22000    0.410000   \n",
       "alcohol               4898.0   10.514267   1.230621  8.00000    9.500000   \n",
       "quality               4898.0    5.877909   0.885639  3.00000    5.000000   \n",
       "\n",
       "                            50%       75%        max  \n",
       "fixed acidity           6.80000    7.3000   14.20000  \n",
       "volatile acidity        0.26000    0.3200    1.10000  \n",
       "citric acid             0.32000    0.3900    1.66000  \n",
       "residual sugar          5.20000    9.9000   65.80000  \n",
       "chlorides               0.04300    0.0500    0.34600  \n",
       "free sulfur dioxide    34.00000   46.0000  289.00000  \n",
       "total sulfur dioxide  134.00000  167.0000  440.00000  \n",
       "density                 0.99374    0.9961    1.03898  \n",
       "pH                      3.18000    3.2800    3.82000  \n",
       "sulphates               0.47000    0.5500    1.08000  \n",
       "alcohol                10.40000   11.4000   14.20000  \n",
       "quality                 6.00000    6.0000    9.00000  "
      ]
     },
     "execution_count": 4,
     "metadata": {},
     "output_type": "execute_result"
    }
   ],
   "source": [
    "# Cтатистические характеристики:\n",
    "data.describe().T"
   ]
  },
  {
   "cell_type": "code",
   "execution_count": 6,
   "metadata": {
    "collapsed": false
   },
   "outputs": [
    {
     "name": "stdout",
     "output_type": "stream",
     "text": [
      "6    2198\n",
      "5    1457\n",
      "7     880\n",
      "8     175\n",
      "4     163\n",
      "3      20\n",
      "9       5\n",
      "Name: quality, dtype: int64\n"
     ]
    },
    {
     "data": {
      "image/png": "[encoded data removed]",
      "text/plain": [
       "<matplotlib.figure.Figure at 0x7fdd86339fd0>"
      ]
     },
     "metadata": {},
     "output_type": "display_data"
    }
   ],
   "source": [
    "# Посмотрим на распределение целевой переменной\n",
    "sns.countplot(x = 'quality', data = data)\n",
    "print(data['quality'].value_counts())"
   ]
  },
  {
   "cell_type": "markdown",
   "metadata": {},
   "source": [
    "<p>Выборка не сбалансирована. Хоть оценка от 0 и до 10, но в данных присутствуют только вина с качеством от 3 до 9. В выборке преобладают вина \"среднего\" качества (5-7), более 80%. Потому задача, больше сводится к классификации вин с качеством 5, 6 и 7</p>\n",
    "<p>Чтобы интуитивно понимать различия в качестве вин, условно разделим нашу выборку на три класса качества: {низкое (3-4), среднее (5-7) и высокое (8-9)}. И давайте посмотрим, чем же они отличаются?! Это поможет нам выбирать хорошие вина в магазинах:)</p>"
   ]
  },
  {
   "cell_type": "code",
   "execution_count": 7,
   "metadata": {
    "collapsed": false
   },
   "outputs": [],
   "source": [
    "# Добавление нового категориального признака: низкое - 1, среднее - 2, высокое - 3\n",
    "def qgr(x):\n",
    "    if x < 5:\n",
    "        return 1\n",
    "    elif x < 8:\n",
    "        return 2\n",
    "    else:\n",
    "        return 3\n",
    "\n",
    "df = data\n",
    "df['new_q'] = df['quality'].apply(qgr)"
   ]
  },
  {
   "cell_type": "markdown",
   "metadata": {
    "collapsed": false
   },
   "source": [
    "###  Часть 3. Первичный визуальный анализ признаков"
   ]
  },
  {
   "cell_type": "code",
   "execution_count": 15,
   "metadata": {
    "collapsed": false
   },
   "outputs": [
    {
     "data": {
      "text/plain": [
       "<matplotlib.axes._subplots.AxesSubplot at 0x7fdd7e805610>"
      ]
     },
     "execution_count": 15,
     "metadata": {},
     "output_type": "execute_result"
    },
    {
     "data": {
      "image/png": "[encoded data removed]",
      "text/plain": [
       "<matplotlib.figure.Figure at 0x7fdd7ec13f50>"
      ]
     },
     "metadata": {},
     "output_type": "display_data"
    }
   ],
   "source": [
    "# Признаки высшего качества\n",
    "ax1 = plt.subplot2grid((2,2), (0,0))\n",
    "ax2 = plt.subplot2grid((2,2), (0,1))\n",
    "ax3 = plt.subplot2grid((2,2), (1,0))\n",
    "ax4 = plt.subplot2grid((2,2), (1,1))\n",
    "plt.tight_layout(pad=1.0, w_pad=2.5, h_pad=2.0)\n",
    "\n",
    "sns.boxplot(x=\"new_q\", y=\"alcohol\", data=df, ax = ax1)\n",
    "sns.boxplot(x=\"new_q\", y=\"density\", data=df[df['density'] < 1.01], ax = ax2)\n",
    "sns.boxplot(x=\"new_q\", y=\"pH\", data=df[df['pH'] < 3.6], ax = ax3)\n",
    "sns.boxplot(x=\"new_q\", y=\"chlorides\", data=df[df['chlorides'] < 0.08], ax = ax4)"
   ]
  },
  {
   "cell_type": "markdown",
   "metadata": {},
   "source": [
    "Как видим из графиков распределения (выше), отличительная черта высшего качества это остальных это повышенная концентрация алкоголя, низкая плотность, повышенная pH и низкая концентрация хлоридов."
   ]
  },
  {
   "cell_type": "code",
   "execution_count": 23,
   "metadata": {
    "collapsed": false
   },
   "outputs": [
    {
     "data": {
      "text/plain": [
       "<matplotlib.axes._subplots.AxesSubplot at 0x7fdd7c55ce90>"
      ]
     },
     "execution_count": 23,
     "metadata": {},
     "output_type": "execute_result"
    },
    {
     "data": {
      "image/png": "[encoded data removed]",
      "text/plain": [
       "<matplotlib.figure.Figure at 0x7fdd7c6f9150>"
      ]
     },
     "metadata": {},
     "output_type": "display_data"
    }
   ],
   "source": [
    "# Признаки низкого качества\n",
    "ax1 = plt.subplot2grid((2,2), (0,0))\n",
    "ax2 = plt.subplot2grid((2,2), (0,1))\n",
    "ax3 = plt.subplot2grid((2,2), (1,0))\n",
    "ax4 = plt.subplot2grid((2,2), (1,1))\n",
    "plt.tight_layout(pad=1.0, w_pad=2.5, h_pad=2.0)\n",
    "\n",
    "sns.boxplot(x=\"new_q\", y=\"chlorides\", data=df[df['chlorides'] < 0.08], ax = ax3)\n",
    "sns.boxplot(x=\"new_q\", y=\"free sulfur dioxide\", data=df[df['free sulfur dioxide'] < 80], ax = ax1)\n",
    "sns.boxplot(x=\"new_q\", y=\"volatile acidity\", data=df[df['volatile acidity']<0.6], ax = ax2)\n",
    "sns.boxplot(x=\"new_q\", y=\"residual sugar\", data=df[df['residual sugar'] < 20], ax = ax4)"
   ]
  },
  {
   "cell_type": "markdown",
   "metadata": {},
   "source": [
    "<p>Из графиков выше, видим, низкое качество это прежде всего низкий уровень свободного диоксида серы и остаточного сахара, повышенный уровень кислотности (изменчивая) и хлоридов.</p>\n",
    "<p>Далее посмотрим на важность признаков. В выборке оставим только образцы с качеством 5, 6 и 7 (чтобы не усложнять), так как их подавляющее большинство</p>"
   ]
  },
  {
   "cell_type": "code",
   "execution_count": 26,
   "metadata": {
    "collapsed": false
   },
   "outputs": [],
   "source": [
    "ddata = data[(data['quality']>4) & (data['quality']<8)]\n",
    "df_scale = preprocessing.scale(ddata)\n",
    "df_scale = pd.DataFrame(df_scale)\n",
    "df_scale.columns = ddata.columns\n",
    "X, y = ddata[[s for s in df_scale.columns if s != 'quality']], ddata['quality']"
   ]
  },
  {
   "cell_type": "code",
   "execution_count": 28,
   "metadata": {
    "collapsed": false
   },
   "outputs": [
    {
     "data": {
      "text/plain": [
       "0.59955898566703414"
      ]
     },
     "execution_count": 28,
     "metadata": {},
     "output_type": "execute_result"
    }
   ],
   "source": [
    "first_forest = RandomForestClassifier(n_estimators=300, max_depth = 5, \n",
    "                                      oob_score=True, n_jobs=-1,\n",
    "                                      random_state=42).fit(X, y)\n",
    "first_forest.oob_score_"
   ]
  },
  {
   "cell_type": "code",
   "execution_count": 29,
   "metadata": {
    "collapsed": false
   },
   "outputs": [
    {
     "data": {
      "text/html": [
       "<div>\n",
       "<table border=\"1\" class=\"dataframe\">\n",
       "  <thead>\n",
       "    <tr style=\"text-align: right;\">\n",
       "      <th></th>\n",
       "      <th>Importance</th>\n",
       "    </tr>\n",
       "  </thead>\n",
       "  <tbody>\n",
       "    <tr>\n",
       "      <th>alcohol</th>\n",
       "      <td>0.286308</td>\n",
       "    </tr>\n",
       "    <tr>\n",
       "      <th>volatile acidity</th>\n",
       "      <td>0.149727</td>\n",
       "    </tr>\n",
       "    <tr>\n",
       "      <th>density</th>\n",
       "      <td>0.149382</td>\n",
       "    </tr>\n",
       "    <tr>\n",
       "      <th>chlorides</th>\n",
       "      <td>0.093110</td>\n",
       "    </tr>\n",
       "    <tr>\n",
       "      <th>residual sugar</th>\n",
       "      <td>0.059022</td>\n",
       "    </tr>\n",
       "    <tr>\n",
       "      <th>free sulfur dioxide</th>\n",
       "      <td>0.058325</td>\n",
       "    </tr>\n",
       "    <tr>\n",
       "      <th>citric acid</th>\n",
       "      <td>0.053802</td>\n",
       "    </tr>\n",
       "    <tr>\n",
       "      <th>total sulfur dioxide</th>\n",
       "      <td>0.053448</td>\n",
       "    </tr>\n",
       "    <tr>\n",
       "      <th>pH</th>\n",
       "      <td>0.044227</td>\n",
       "    </tr>\n",
       "    <tr>\n",
       "      <th>sulphates</th>\n",
       "      <td>0.027455</td>\n",
       "    </tr>\n",
       "    <tr>\n",
       "      <th>fixed acidity</th>\n",
       "      <td>0.025193</td>\n",
       "    </tr>\n",
       "    <tr>\n",
       "      <th>new_q</th>\n",
       "      <td>0.000000</td>\n",
       "    </tr>\n",
       "  </tbody>\n",
       "</table>\n",
       "</div>"
      ],
      "text/plain": [
       "                      Importance\n",
       "alcohol                 0.286308\n",
       "volatile acidity        0.149727\n",
       "density                 0.149382\n",
       "chlorides               0.093110\n",
       "residual sugar          0.059022\n",
       "free sulfur dioxide     0.058325\n",
       "citric acid             0.053802\n",
       "total sulfur dioxide    0.053448\n",
       "pH                      0.044227\n",
       "sulphates               0.027455\n",
       "fixed acidity           0.025193\n",
       "new_q                   0.000000"
      ]
     },
     "execution_count": 29,
     "metadata": {},
     "output_type": "execute_result"
    }
   ],
   "source": [
    "first_forest_predictions = first_forest.predict(X)\n",
    "features = pd.DataFrame(first_forest.feature_importances_, index=X.columns,\n",
    "                        columns=['Importance']).sort(['Importance'], ascending=False)\n",
    "features"
   ]
  },
  {
   "cell_type": "markdown",
   "metadata": {},
   "source": [
    "Видим, что для вин среднего качества важными признаками являются: уровень алкоголя, кислотность (изм.), плотность и хлориды. Из школьной физики ясно, что плотность и кол-во алкоголя обратно пропорциональны.\n",
    "\n",
    "Посмотрим также на корреляции признаков"
   ]
  },
  {
   "cell_type": "code",
   "execution_count": 45,
   "metadata": {
    "collapsed": false
   },
   "outputs": [
    {
     "name": "stdout",
     "output_type": "stream",
     "text": [
      "quality                 1.000000\n",
      "fixed acidity          -0.113663\n",
      "volatile acidity       -0.194723\n",
      "citric acid            -0.009209\n",
      "residual sugar         -0.097577\n",
      "sulphates               0.053678\n",
      "free sulfur dioxide     0.008158\n",
      "chlorides              -0.209934\n",
      "total sulfur dioxide   -0.174737\n",
      "pH                      0.099427\n",
      "density                -0.307123\n",
      "alcohol                 0.435575\n",
      "Name: quality, dtype: float64\n"
     ]
    },
    {
     "data": {
      "text/plain": [
       "<matplotlib.axes._subplots.AxesSubplot at 0x7fe2b38db110>"
      ]
     },
     "execution_count": 45,
     "metadata": {},
     "output_type": "execute_result"
    },
    {
     "data": {
      "image/png": "[encoded data removed]",
      "text/plain": [
       "<matplotlib.figure.Figure at 0x7fe2b36f2690>"
      ]
     },
     "metadata": {},
     "output_type": "display_data"
    }
   ],
   "source": [
    "predictors = ['quality', 'fixed acidity', 'volatile acidity', 'citric acid', 'residual sugar', 'sulphates', 'free sulfur dioxide', 'chlorides', 'total sulfur dioxide', 'pH', 'density', 'alcohol']\n",
    "corr = data[predictors].corr()\n",
    "print(corr['quality'])\n",
    "sns.heatmap(corr)"
   ]
  },
  {
   "cell_type": "markdown",
   "metadata": {},
   "source": [
    "Сильно коррелируют плотность с алкоголем и сахаром. Ожидаемо\n",
    "\n",
    "На последок, посмотрим чем отличаются вина с качеством 5, 6, 7, которых больше всего в выборке."
   ]
  },
  {
   "cell_type": "code",
   "execution_count": 36,
   "metadata": {
    "collapsed": false
   },
   "outputs": [
    {
     "data": {
      "text/plain": [
       "<matplotlib.axes._subplots.AxesSubplot at 0x7fdd78c31e50>"
      ]
     },
     "execution_count": 36,
     "metadata": {},
     "output_type": "execute_result"
    },
    {
     "data": {
      "image/png": "[encoded data removed]",
      "text/plain": [
       "<matplotlib.figure.Figure at 0x7fdd79311950>"
      ]
     },
     "metadata": {},
     "output_type": "display_data"
    }
   ],
   "source": [
    "ax1 = plt.subplot2grid((2,2), (0,0))\n",
    "ax2 = plt.subplot2grid((2,2), (0,1))\n",
    "ax3 = plt.subplot2grid((2,2), (1,0))\n",
    "ax4 = plt.subplot2grid((2,2), (1,1))\n",
    "\n",
    "plt.tight_layout(pad=1.0, w_pad=2.5, h_pad=2.0)\n",
    "sns.boxplot(x=\"quality\", y=\"alcohol\", data=df, ax = ax1)\n",
    "sns.boxplot(x=\"quality\", y=\"residual sugar\", data=df[df['residual sugar'] < 20], ax = ax2)\n",
    "sns.boxplot(x=\"quality\", y=\"chlorides\", data=df[df['chlorides'] < 0.08], ax = ax3)\n",
    "sns.boxplot(x=\"quality\", y=\"total sulfur dioxide\", data=df[df['total sulfur dioxide'] < 300], ax = ax4)"
   ]
  },
  {
   "cell_type": "markdown",
   "metadata": {},
   "source": [
    "###  Часть 4. Закономерности, \"инсайты\", особенности данных"
   ]
  },
  {
   "cell_type": "markdown",
   "metadata": {},
   "source": [
    "Подведем предварительные итоги визуального анализа:\n",
    "- Высшее качество вина это: повышенная концентрация алкоголя, низкая плотность, повышенная pH и низкая концентрация хлоридов.\n",
    "- Низшее качество вина: низкий уровень свободного диоксида серы и остаточного сахара, повышенный уровень кислотности (изменчивая) и хлоридов.\n",
    "- Самые часто встречающиеся образцы 5,6,7 отличаются уровнем алкоголя (соответственно плотностью), хлоридом, остаточным сахаром и суммарным диоксидом серы."
   ]
  },
  {
   "cell_type": "markdown",
   "metadata": {},
   "source": [
    "###  Часть 5. Предобработка данных "
   ]
  },
  {
   "cell_type": "code",
   "execution_count": 6,
   "metadata": {
    "collapsed": false
   },
   "outputs": [
    {
     "data": {
      "text/html": [
       "<div>\n",
       "<table border=\"1\" class=\"dataframe\">\n",
       "  <thead>\n",
       "    <tr style=\"text-align: right;\">\n",
       "      <th></th>\n",
       "      <th>fixed acidity</th>\n",
       "      <th>volatile acidity</th>\n",
       "      <th>citric acid</th>\n",
       "      <th>residual sugar</th>\n",
       "      <th>chlorides</th>\n",
       "      <th>free sulfur dioxide</th>\n",
       "      <th>total sulfur dioxide</th>\n",
       "      <th>density</th>\n",
       "      <th>pH</th>\n",
       "      <th>sulphates</th>\n",
       "      <th>alcohol</th>\n",
       "    </tr>\n",
       "  </thead>\n",
       "  <tbody>\n",
       "    <tr>\n",
       "      <th>0</th>\n",
       "      <td>0.172097</td>\n",
       "      <td>-0.081770</td>\n",
       "      <td>0.213280</td>\n",
       "      <td>2.821349</td>\n",
       "      <td>-0.035355</td>\n",
       "      <td>0.569932</td>\n",
       "      <td>0.744565</td>\n",
       "      <td>2.331512</td>\n",
       "      <td>-1.246921</td>\n",
       "      <td>-0.349184</td>\n",
       "      <td>-1.393152</td>\n",
       "    </tr>\n",
       "    <tr>\n",
       "      <th>1</th>\n",
       "      <td>-0.657501</td>\n",
       "      <td>0.215896</td>\n",
       "      <td>0.048001</td>\n",
       "      <td>-0.944765</td>\n",
       "      <td>0.147747</td>\n",
       "      <td>-1.253019</td>\n",
       "      <td>-0.149685</td>\n",
       "      <td>-0.009154</td>\n",
       "      <td>0.740029</td>\n",
       "      <td>0.001342</td>\n",
       "      <td>-0.824276</td>\n",
       "    </tr>\n",
       "    <tr>\n",
       "      <th>2</th>\n",
       "      <td>1.475751</td>\n",
       "      <td>0.017452</td>\n",
       "      <td>0.543838</td>\n",
       "      <td>0.100282</td>\n",
       "      <td>0.193523</td>\n",
       "      <td>-0.312141</td>\n",
       "      <td>-0.973336</td>\n",
       "      <td>0.358665</td>\n",
       "      <td>0.475102</td>\n",
       "      <td>-0.436816</td>\n",
       "      <td>-0.336667</td>\n",
       "    </tr>\n",
       "    <tr>\n",
       "      <th>3</th>\n",
       "      <td>0.409125</td>\n",
       "      <td>-0.478657</td>\n",
       "      <td>-0.117278</td>\n",
       "      <td>0.415768</td>\n",
       "      <td>0.559727</td>\n",
       "      <td>0.687541</td>\n",
       "      <td>1.121091</td>\n",
       "      <td>0.525855</td>\n",
       "      <td>0.011480</td>\n",
       "      <td>-0.787342</td>\n",
       "      <td>-0.499203</td>\n",
       "    </tr>\n",
       "    <tr>\n",
       "      <th>4</th>\n",
       "      <td>0.409125</td>\n",
       "      <td>-0.478657</td>\n",
       "      <td>-0.117278</td>\n",
       "      <td>0.415768</td>\n",
       "      <td>0.559727</td>\n",
       "      <td>0.687541</td>\n",
       "      <td>1.121091</td>\n",
       "      <td>0.525855</td>\n",
       "      <td>0.011480</td>\n",
       "      <td>-0.787342</td>\n",
       "      <td>-0.499203</td>\n",
       "    </tr>\n",
       "  </tbody>\n",
       "</table>\n",
       "</div>"
      ],
      "text/plain": [
       "   fixed acidity  volatile acidity  citric acid  residual sugar  chlorides  \\\n",
       "0       0.172097         -0.081770     0.213280        2.821349  -0.035355   \n",
       "1      -0.657501          0.215896     0.048001       -0.944765   0.147747   \n",
       "2       1.475751          0.017452     0.543838        0.100282   0.193523   \n",
       "3       0.409125         -0.478657    -0.117278        0.415768   0.559727   \n",
       "4       0.409125         -0.478657    -0.117278        0.415768   0.559727   \n",
       "\n",
       "   free sulfur dioxide  total sulfur dioxide   density        pH  sulphates  \\\n",
       "0             0.569932              0.744565  2.331512 -1.246921  -0.349184   \n",
       "1            -1.253019             -0.149685 -0.009154  0.740029   0.001342   \n",
       "2            -0.312141             -0.973336  0.358665  0.475102  -0.436816   \n",
       "3             0.687541              1.121091  0.525855  0.011480  -0.787342   \n",
       "4             0.687541              1.121091  0.525855  0.011480  -0.787342   \n",
       "\n",
       "    alcohol  \n",
       "0 -1.393152  \n",
       "1 -0.824276  \n",
       "2 -0.336667  \n",
       "3 -0.499203  \n",
       "4 -0.499203  "
      ]
     },
     "execution_count": 6,
     "metadata": {},
     "output_type": "execute_result"
    }
   ],
   "source": [
    "y = data['quality']\n",
    "X = data.drop('quality', axis=1)\n",
    "# Маштабируем переменные и конвертируем назад в Pandas DataFrame\n",
    "scaled_data = preprocessing.scale(X)\n",
    "scaled_data = pd.DataFrame(scaled_data)\n",
    "scaled_data.columns = X.columns\n",
    "\n",
    "scaled_data.head()"
   ]
  },
  {
   "cell_type": "code",
   "execution_count": 7,
   "metadata": {
    "collapsed": false
   },
   "outputs": [],
   "source": [
    "X_train, X_test, y_train, y_test = train_test_split(X, y, test_size=0.3)"
   ]
  },
  {
   "cell_type": "code",
   "execution_count": 10,
   "metadata": {
    "collapsed": false
   },
   "outputs": [],
   "source": [
    "classifiers = [Lasso(),\n",
    "               ElasticNet(),\n",
    "               SVR(), \n",
    "               RandomForestRegressor()] \n",
    "               \n",
    "classifiers_name = ['Lasso',\n",
    "                    'ElasticNet',\n",
    "                    'SVR', \n",
    "                    'RandomForestRegressor']"
   ]
  },
  {
   "cell_type": "code",
   "execution_count": 11,
   "metadata": {
    "collapsed": true
   },
   "outputs": [],
   "source": [
    "# Настройка параметров выбранных алгоритмов с помощью GridSearchCV \n",
    "n_folds = 5\n",
    "scores = []\n",
    "fits = []\n",
    "\n",
    "lasso_params = {'alpha': (0.0001, 0.001, 1.0)}\n",
    "\n",
    "elasticnet_params = {'alpha': (0.001, 1.0, 1000, 100000),\n",
    "                    'l1_ratio': (0.1, 0.5, 0.9)}\n",
    "\n",
    "forest_params = {'n_estimators': [100, 300, 500],\n",
    "                 'max_depth': list(range(3, 6)), \n",
    "                 'min_samples_leaf': list(range(10, 31, 10))}\n",
    "\n",
    "svr_param = {'kernel' : ('linear', 'rbf'), 'C': (.5, 1, 2)}\n",
    "params = [lasso_params, elasticnet_params, svr_param, forest_params]"
   ]
  },
  {
   "cell_type": "code",
   "execution_count": null,
   "metadata": {
    "collapsed": false
   },
   "outputs": [
    {
     "name": "stdout",
     "output_type": "stream",
     "text": [
      "Lasso -0.585797953374 \n",
      " {'alpha': 0.0001} \n",
      "\n",
      "ElasticNet -0.585873474968 \n",
      " {'alpha': 0.001, 'l1_ratio': 0.9} \n",
      "\n"
     ]
    }
   ],
   "source": [
    "for i, each_classifier in enumerate(classifiers):\n",
    "    clf = each_classifier\n",
    "    clf_params = params[i]\n",
    "    grid = GridSearchCV(clf, clf_params, \n",
    "                        cv=StratifiedKFold(y_train, n_folds=n_folds,\n",
    "                        shuffle=False, random_state=42), \n",
    "                        n_jobs=-1, scoring=\"mean_squared_error\")\n",
    "    grid.fit(X_train, y_train)\n",
    "    fits.append(grid.best_params_)\n",
    "    clf_best_score = grid.best_score_\n",
    "    scores.append(clf_best_score)\n",
    "    print(classifiers_name[i], clf_best_score, \"\\n\", grid.best_params_, \"\\n\")"
   ]
  },
  {
   "cell_type": "code",
   "execution_count": 7,
   "metadata": {
    "collapsed": false
   },
   "outputs": [
    {
     "name": "stdout",
     "output_type": "stream",
     "text": [
      "1872   -0.991374\n",
      "1003    1.267114\n",
      "819    -0.991374\n",
      "754    -0.991374\n",
      "3516    1.267114\n",
      "1801   -0.991374\n",
      "Name: quality, dtype: float64\n",
      "[-0.47780196 -0.17066893 -1.0644253  -0.91872998  1.04226561 -0.53335953]\n",
      "Lasso(alpha=0.01, copy_X=True, fit_intercept=True, max_iter=1000,\n",
      "   normalize=False, positive=False, precompute=False, random_state=None,\n",
      "   selection='cyclic', tol=0.0001, warm_start=False)\n",
      "r^2 on test data : 0.277796\n"
     ]
    }
   ],
   "source": [
    "from sklearn.linear_model import Lasso\n",
    "\n",
    "alpha = 0.01\n",
    "lasso = Lasso(alpha=alpha)\n",
    "\n",
    "y_pred_lasso = lasso.fit(X_train, y_train).predict(X_test)\n",
    "r2_score_lasso = r2_score(y_test, y_pred_lasso)\n",
    "print(y_test[0:6])\n",
    "print(y_pred_lasso[0:6])\n",
    "print(lasso)\n",
    "print(\"r^2 on test data : %f\" % r2_score_lasso)"
   ]
  },
  {
   "cell_type": "code",
   "execution_count": 8,
   "metadata": {
    "collapsed": false
   },
   "outputs": [
    {
     "name": "stdout",
     "output_type": "stream",
     "text": [
      "1872   -0.991374\n",
      "1003    1.267114\n",
      "819    -0.991374\n",
      "754    -0.991374\n",
      "3516    1.267114\n",
      "1801   -0.991374\n",
      "Name: quality, dtype: float64\n",
      "[-0.45996937 -0.18083784 -1.0690914  -0.93211323  1.04742018 -0.53943007]\n",
      "ElasticNet(alpha=0.01, copy_X=True, fit_intercept=True, l1_ratio=0.7,\n",
      "      max_iter=1000, normalize=False, positive=False, precompute=False,\n",
      "      random_state=None, selection='cyclic', tol=0.0001, warm_start=False)\n",
      "r^2 on test data : 0.280405\n"
     ]
    }
   ],
   "source": [
    "from sklearn.linear_model import ElasticNet\n",
    "\n",
    "alpha = 0.01\n",
    "enet = ElasticNet(alpha=alpha, l1_ratio=0.7)\n",
    "\n",
    "y_pred_enet = enet.fit(X_train, y_train).predict(X_test)\n",
    "r2_score_enet = r2_score(y_test, y_pred_enet)\n",
    "print(y_test[0:6])\n",
    "print(y_pred_enet[0:6])\n",
    "print(enet)\n",
    "print(\"r^2 on test data : %f\" % r2_score_enet)"
   ]
  },
  {
   "cell_type": "code",
   "execution_count": 9,
   "metadata": {
    "collapsed": false
   },
   "outputs": [
    {
     "name": "stdout",
     "output_type": "stream",
     "text": [
      "1872   -0.991374\n",
      "1003    1.267114\n",
      "819    -0.991374\n",
      "754    -0.991374\n",
      "3516    1.267114\n",
      "1801   -0.991374\n",
      "Name: quality, dtype: float64\n",
      "[-0.48617513 -0.25423038 -1.13710941 -1.16099779  1.11337597 -0.57347726]\n",
      "SVR(C=10, cache_size=200, coef0=0.0, degree=3, epsilon=0.1, gamma='auto',\n",
      "  kernel='linear', max_iter=-1, shrinking=True, tol=0.001, verbose=False)\n",
      "r^2 on test data : 0.287510\n"
     ]
    }
   ],
   "source": [
    "from sklearn.svm import SVR\n",
    "clf_svr_linear = SVR(C=1.0, kernel='linear')\n",
    "y_pred_svr_linear = clf_svr_linear.fit(X_train, y_train).predict(X_test)\n",
    "r2_score_svr_linear = r2_score(y_test, y_pred_svr_linear)\n",
    "print(y_test[0:6])\n",
    "print(y_pred_svr_linear[0:6])\n",
    "print(clf_svr_linear)\n",
    "print(\"r^2 on test data : %f\" % r2_score_svr_linear)"
   ]
  },
  {
   "cell_type": "code",
   "execution_count": 11,
   "metadata": {
    "collapsed": false
   },
   "outputs": [
    {
     "name": "stdout",
     "output_type": "stream",
     "text": [
      "1872   -0.991374\n",
      "1003    1.267114\n",
      "819    -0.991374\n",
      "754    -0.991374\n",
      "3516    1.267114\n",
      "1801   -0.991374\n",
      "Name: quality, dtype: float64\n",
      "[-0.92698305 -0.23132916 -0.85275667 -1.20862284  1.0437409  -0.48775697]\n",
      "SVR(C=2.0, cache_size=200, coef0=0.0, degree=3, epsilon=0.1, gamma='auto',\n",
      "  kernel='rbf', max_iter=-1, shrinking=True, tol=0.001, verbose=False)\n",
      "r^2 on test data : 0.419717\n"
     ]
    }
   ],
   "source": [
    "from sklearn.svm import SVR\n",
    "clf_svr_rbf = SVR(C=2.0, kernel='rbf')\n",
    "y_pred_svr_rbf = clf_svr_rbf.fit(X_train, y_train).predict(X_test)\n",
    "r2_score_svr_rbf = r2_score(y_test, y_pred_svr_rbf)\n",
    "print(y_test[0:6])\n",
    "print(y_pred_svr_rbf[0:6])\n",
    "print(clf_svr_rbf)\n",
    "print(\"r^2 on test data : %f\" % r2_score_svr_rbf)"
   ]
  },
  {
   "cell_type": "code",
   "execution_count": 12,
   "metadata": {
    "collapsed": false
   },
   "outputs": [
    {
     "name": "stdout",
     "output_type": "stream",
     "text": [
      "Random Forest mean: 0.458252816297\n"
     ]
    }
   ],
   "source": [
    "from sklearn.cross_validation import cross_val_score\n",
    "\n",
    "rfrg = RandomForestRegressor(n_estimators = 100)\n",
    "\n",
    "n_folds = 5\n",
    "scores = []\n",
    "\n",
    "# Do it for each classifier\n",
    "clf_scores = cross_val_score(rfrg, X_train, y_train, cv=n_folds, scoring='r2')\n",
    "clf_mean_score = clf_scores.mean()\n",
    "scores.append(clf_mean_score)\n",
    "# Print the name of classifier with\n",
    "# the best score and the score\n",
    "print('Random Forest mean:',clf_mean_score)"
   ]
  },
  {
   "cell_type": "code",
   "execution_count": 13,
   "metadata": {
    "collapsed": false
   },
   "outputs": [
    {
     "name": "stdout",
     "output_type": "stream",
     "text": [
      "mse 0.46316878374\n",
      "evs 0.523833557042\n",
      "mae 0.483754326871\n",
      "median 0.338773217332\n",
      "r2 0.521052397542\n"
     ]
    }
   ],
   "source": [
    "\n",
    "\n",
    "rfrg.fit(X_train, y_train)\n",
    "y_pred = rfrg.predict(X_test)\n",
    "score = mean_squared_error(y_test, y_pred)\n",
    "score2 = explained_variance_score(y_test, y_pred)\n",
    "score3 = mean_absolute_error(y_test, y_pred)\n",
    "score4 = median_absolute_error(y_test, y_pred)\n",
    "score5 = r2_score(y_test, y_pred)\n",
    "print('mse', score)\n",
    "print('evs', score2)\n",
    "print('mae', score3)\n",
    "print('median', score4)\n",
    "print('r2', score5)"
   ]
  },
  {
   "cell_type": "code",
   "execution_count": 17,
   "metadata": {
    "collapsed": false
   },
   "outputs": [
    {
     "name": "stdout",
     "output_type": "stream",
     "text": [
      "[ 5.64  6.53  5.05 ...,  5.34  5.64  6.9 ] [6 7 6 ..., 5 6 7]\n"
     ]
    }
   ],
   "source": [
    "test = np.asarray(y_test)\n",
    "print(y_pred, test)"
   ]
  },
  {
   "cell_type": "markdown",
   "metadata": {},
   "source": [
    "###  Часть 6. Построение признаков"
   ]
  },
  {
   "cell_type": "code",
   "execution_count": null,
   "metadata": {
    "collapsed": true
   },
   "outputs": [],
   "source": []
  },
  {
   "cell_type": "markdown",
   "metadata": {},
   "source": [
    "###  Часть 7. Отбор признаков"
   ]
  },
  {
   "cell_type": "code",
   "execution_count": null,
   "metadata": {
    "collapsed": true
   },
   "outputs": [],
   "source": []
  },
  {
   "cell_type": "markdown",
   "metadata": {},
   "source": [
    "###  Часть 8. Построение модели"
   ]
  },
  {
   "cell_type": "code",
   "execution_count": null,
   "metadata": {
    "collapsed": true
   },
   "outputs": [],
   "source": []
  },
  {
   "cell_type": "markdown",
   "metadata": {},
   "source": [
    "###  Часть 9. Кросс-валидация, подбор параметров"
   ]
  },
  {
   "cell_type": "code",
   "execution_count": null,
   "metadata": {
    "collapsed": true
   },
   "outputs": [],
   "source": []
  },
  {
   "cell_type": "markdown",
   "metadata": {},
   "source": [
    "###  Часть 10. Кривые валидации и обучения"
   ]
  },
  {
   "cell_type": "code",
   "execution_count": null,
   "metadata": {
    "collapsed": true
   },
   "outputs": [],
   "source": []
  },
  {
   "cell_type": "markdown",
   "metadata": {},
   "source": [
    "###  Часть 11. Прогноз для тестовой (или отложенной) выборки"
   ]
  },
  {
   "cell_type": "code",
   "execution_count": null,
   "metadata": {
    "collapsed": true
   },
   "outputs": [],
   "source": [
    "#ax1 = plt.subplot2grid((2,2), (0,0))\n",
    "#ax2 = plt.subplot2grid((2,2), (0,1))\n",
    "#ax3 = plt.subplot2grid((2,2), (1,0))\n",
    "#ax4 = plt.subplot2grid((2,2), (1,1))\n",
    "#plt.tight_layout(pad=1.0, w_pad=2.5, h_pad=2.0)\n",
    "\n",
    "#sns.boxplot(x=\"new_q\", y=\"alcohol\", data=df, ax = ax1)\n",
    "#sns.boxplot(x=\"new_q\", y=\"density\", data=df[df['density'] < 1.01], ax = ax2)\n",
    "#sns.boxplot(x=\"new_q\", y=\"volatile acidity\", data=df[df['volatile acidity']<0.6], ax = ax3)\n",
    "#sns.boxplot(x=\"new_q\", y=\"residual sugar\", data=df[df['residual sugar'] < 20], ax = ax4)\n",
    "#sns.boxplot(x=\"new_q\", y=\"citric acid\", data=df[df['citric acid'] < 0.6], ax = ax1)\n",
    "#sns.boxplot(x=\"new_q\", y=\"pH\", data=df[df['pH'] < 3.6], ax = ax2)\n",
    "#sns.boxplot(x=\"new_q\", y=\"sulphates\", data=df[df['sulphates'] < 0.8], ax = ax3)\n",
    "#sns.boxplot(x=\"new_q\", y=\"chlorides\", data=df[df['chlorides'] < 0.08], ax = ax4)\n",
    "#sns.boxplot(x=\"new_q\", y=\"free sulfur dioxide\", data=df[df['free sulfur dioxide'] < 80], ax = ax1)\n",
    "#sns.boxplot(x=\"new_q\", y=\"total sulfur dioxide\", data=df[df['total sulfur dioxide'] < 300], ax = ax2)\n",
    "#sns.boxplot(x=\"new_q\", y=\"fixed acidity\", data=df[df['fixed acidity']<10.5], ax = ax3)\n",
    "\n",
    "\n",
    "#sns.boxplot(x=\"quality\", y=\"citric acid\", data=df[df['citric acid'] < 0.6], ax = ax3)\n",
    "#sns.boxplot(x=\"quality\", y=\"pH\", data=df[df['pH'] < 3.6], ax = ax3)\n",
    "#sns.boxplot(x=\"quality\", y=\"sulphates\", data=df[df['sulphates'] < 0.8], ax = ax4)\n",
    "#sns.boxplot(x=\"quality\", y=\"density\", data=df[df['density'] < 1.01], ax = ax2)\n",
    "#sns.boxplot(x=\"quality\", y=\"fixed acidity\", data=df[df['fixed acidity']<10.5], ax = ax3)\n",
    "#sns.boxplot(x=\"quality\", y=\"volatile acidity\", data=df[df['volatile acidity']<0.6], ax = ax4)\n",
    "#sns.boxplot(x=\"quality\", y=\"free sulfur dioxide\", data=df[df['free sulfur dioxide'] < 80], ax = ax4)\n",
    "\n",
    "#sns.pairplot(df[df['new_q'] != 4], vars = ['alcohol', 'volatile acidity', 'density', 'chlorides', 'free sulfur dioxide', 'citric acid', 'residual sugar', 'sulphates', 'total sulfur dioxide', 'pH', 'fixed acidity'], hue = 'new_q')"
   ]
  },
  {
   "cell_type": "markdown",
   "metadata": {},
   "source": [
    "###  Часть 12. Оценка модели с описанием выбранной метрики"
   ]
  },
  {
   "cell_type": "code",
   "execution_count": null,
   "metadata": {
    "collapsed": true
   },
   "outputs": [],
   "source": []
  },
  {
   "cell_type": "markdown",
   "metadata": {},
   "source": [
    "### Часть 13. Выводы "
   ]
  },
  {
   "cell_type": "code",
   "execution_count": null,
   "metadata": {
    "collapsed": true
   },
   "outputs": [],
   "source": []
  }
 ],
 "metadata": {
  "kernelspec": {
   "display_name": "Python 3",
   "language": "python",
   "name": "python3"
  },
  "language_info": {
   "codemirror_mode": {
    "name": "ipython",
    "version": 3
   },
   "file_extension": ".py",
   "mimetype": "text/x-python",
   "name": "python",
   "nbconvert_exporter": "python",
   "pygments_lexer": "ipython3",
   "version": "3.5.2"
  }
 },
 "nbformat": 4,
 "nbformat_minor": 0
}
